{
 "cells": [
  {
   "cell_type": "code",
   "execution_count": 1,
   "id": "eezyChpf0E4s",
   "metadata": {
    "colab": {
     "base_uri": "https://localhost:8080/"
    },
    "executionInfo": {
     "elapsed": 8055,
     "status": "ok",
     "timestamp": 1650618976005,
     "user": {
      "displayName": "Александр Солодов",
      "userId": "11087729178682501993"
     },
     "user_tz": -180
    },
    "id": "eezyChpf0E4s",
    "outputId": "edcb5763-d2e7-4609-cc37-213c7c587495"
   },
   "outputs": [],
   "source": [
    "# ! pip install transformers"
   ]
  },
  {
   "cell_type": "code",
   "execution_count": 2,
   "id": "GlwtfK3fy2e7",
   "metadata": {
    "executionInfo": {
     "elapsed": 9807,
     "status": "ok",
     "timestamp": 1650618985807,
     "user": {
      "displayName": "Александр Солодов",
      "userId": "11087729178682501993"
     },
     "user_tz": -180
    },
    "id": "GlwtfK3fy2e7"
   },
   "outputs": [],
   "source": [
    "import pandas as pd\n",
    "import numpy as np\n",
    "import networkx as nx\n",
    "\n",
    "from sklearn.model_selection import train_test_split\n",
    "from sklearn.metrics import f1_score\n",
    "\n",
    "from transformers import BertModel, BertTokenizer\n",
    "import torch\n",
    "import torch.nn as nn\n",
    "from torch.utils.data import Dataset, DataLoader\n",
    "from tqdm import tqdm\n",
    "\n",
    "import matplotlib.pyplot as plt\n"
   ]
  },
  {
   "cell_type": "markdown",
   "id": "h02IY6aGaeJA",
   "metadata": {
    "id": "h02IY6aGaeJA"
   },
   "source": [
    "## Загрузка и предварительная обработка данных"
   ]
  },
  {
   "cell_type": "markdown",
   "id": "1V73pgGVasKP",
   "metadata": {
    "id": "1V73pgGVasKP"
   },
   "source": [
    "Загрузим дерево категорий и построим граф:"
   ]
  },
  {
   "cell_type": "code",
   "execution_count": 3,
   "id": "interior-billy",
   "metadata": {
    "colab": {
     "base_uri": "https://localhost:8080/",
     "height": 424
    },
    "executionInfo": {
     "elapsed": 1004,
     "status": "ok",
     "timestamp": 1650618986803,
     "user": {
      "displayName": "Александр Солодов",
      "userId": "11087729178682501993"
     },
     "user_tz": -180
    },
    "id": "interior-billy",
    "outputId": "e8712551-76a6-4c94-e94b-0d240722b794"
   },
   "outputs": [
    {
     "data": {
      "text/html": [
       "<div>\n",
       "<style scoped>\n",
       "    .dataframe tbody tr th:only-of-type {\n",
       "        vertical-align: middle;\n",
       "    }\n",
       "\n",
       "    .dataframe tbody tr th {\n",
       "        vertical-align: top;\n",
       "    }\n",
       "\n",
       "    .dataframe thead th {\n",
       "        text-align: right;\n",
       "    }\n",
       "</style>\n",
       "<table border=\"1\" class=\"dataframe\">\n",
       "  <thead>\n",
       "    <tr style=\"text-align: right;\">\n",
       "      <th></th>\n",
       "      <th>id</th>\n",
       "      <th>title</th>\n",
       "      <th>parent_id</th>\n",
       "    </tr>\n",
       "  </thead>\n",
       "  <tbody>\n",
       "    <tr>\n",
       "      <th>0</th>\n",
       "      <td>1</td>\n",
       "      <td>Все категории</td>\n",
       "      <td>0</td>\n",
       "    </tr>\n",
       "    <tr>\n",
       "      <th>1</th>\n",
       "      <td>114</td>\n",
       "      <td>Урбеч</td>\n",
       "      <td>1913</td>\n",
       "    </tr>\n",
       "    <tr>\n",
       "      <th>2</th>\n",
       "      <td>115</td>\n",
       "      <td>Варенье и джемы</td>\n",
       "      <td>328</td>\n",
       "    </tr>\n",
       "    <tr>\n",
       "      <th>3</th>\n",
       "      <td>128</td>\n",
       "      <td>Сухие завтраки</td>\n",
       "      <td>2475</td>\n",
       "    </tr>\n",
       "    <tr>\n",
       "      <th>4</th>\n",
       "      <td>131</td>\n",
       "      <td>Масла</td>\n",
       "      <td>2475</td>\n",
       "    </tr>\n",
       "    <tr>\n",
       "      <th>...</th>\n",
       "      <td>...</td>\n",
       "      <td>...</td>\n",
       "      <td>...</td>\n",
       "    </tr>\n",
       "    <tr>\n",
       "      <th>3365</th>\n",
       "      <td>14555</td>\n",
       "      <td>Насадки и запчасти</td>\n",
       "      <td>11691</td>\n",
       "    </tr>\n",
       "    <tr>\n",
       "      <th>3366</th>\n",
       "      <td>14556</td>\n",
       "      <td>Швейные машины</td>\n",
       "      <td>10062</td>\n",
       "    </tr>\n",
       "    <tr>\n",
       "      <th>3367</th>\n",
       "      <td>14557</td>\n",
       "      <td>Матрасы</td>\n",
       "      <td>2894</td>\n",
       "    </tr>\n",
       "    <tr>\n",
       "      <th>3368</th>\n",
       "      <td>14558</td>\n",
       "      <td>Ледянки и тюбинги</td>\n",
       "      <td>10092</td>\n",
       "    </tr>\n",
       "    <tr>\n",
       "      <th>3369</th>\n",
       "      <td>14559</td>\n",
       "      <td>Аксессуары для сушки белья</td>\n",
       "      <td>12823</td>\n",
       "    </tr>\n",
       "  </tbody>\n",
       "</table>\n",
       "<p>3370 rows × 3 columns</p>\n",
       "</div>"
      ],
      "text/plain": [
       "         id                       title  parent_id\n",
       "0         1               Все категории          0\n",
       "1       114                       Урбеч       1913\n",
       "2       115             Варенье и джемы        328\n",
       "3       128              Сухие завтраки       2475\n",
       "4       131                       Масла       2475\n",
       "...     ...                         ...        ...\n",
       "3365  14555          Насадки и запчасти      11691\n",
       "3366  14556              Швейные машины      10062\n",
       "3367  14557                     Матрасы       2894\n",
       "3368  14558           Ледянки и тюбинги      10092\n",
       "3369  14559  Аксессуары для сушки белья      12823\n",
       "\n",
       "[3370 rows x 3 columns]"
      ]
     },
     "execution_count": 3,
     "metadata": {},
     "output_type": "execute_result"
    }
   ],
   "source": [
    "categories_tree = pd.read_csv('/home/voland/vscode/Jupyter_projects/kazanexpress-categorization-of-product/categories_tree.csv')\n",
    "categories_tree"
   ]
  },
  {
   "cell_type": "code",
   "execution_count": 4,
   "id": "respected-masters",
   "metadata": {
    "executionInfo": {
     "elapsed": 4,
     "status": "ok",
     "timestamp": 1650618986804,
     "user": {
      "displayName": "Александр Солодов",
      "userId": "11087729178682501993"
     },
     "user_tz": -180
    },
    "id": "respected-masters"
   },
   "outputs": [],
   "source": [
    "G = nx.DiGraph()\n",
    "G.add_edges_from(categories_tree[['parent_id', 'id']].values)"
   ]
  },
  {
   "cell_type": "markdown",
   "id": "5b0jeL36gSvL",
   "metadata": {
    "id": "5b0jeL36gSvL"
   },
   "source": [
    "Визуализируем структуру каталога:"
   ]
  },
  {
   "cell_type": "code",
   "execution_count": 5,
   "id": "every-stereo",
   "metadata": {
    "colab": {
     "base_uri": "https://localhost:8080/",
     "height": 751
    },
    "id": "every-stereo",
    "outputId": "5a2e40ac-9a8f-47bc-eb97-2ae8f77194d0",
    "scrolled": true
   },
   "outputs": [
    {
     "data": {
      "image/png": "[encoded data removed]",
      "text/plain": [
       "<Figure size 720x720 with 1 Axes>"
      ]
     },
     "metadata": {},
     "output_type": "display_data"
    }
   ],
   "source": [
    "pos = nx.kamada_kawai_layout(G)\n",
    "plt.figure(figsize=(10, 10))\n",
    "nx.draw(G,\n",
    "        pos=pos,\n",
    "        width=0.2,\n",
    "        linewidths=0.4,\n",
    "        edgecolors='black',\n",
    "        node_size=5,\n",
    "       )"
   ]
  },
  {
   "cell_type": "markdown",
   "id": "settled-impression",
   "metadata": {
    "id": "settled-impression"
   },
   "source": [
    "### Загрузка и предобработка данных"
   ]
  },
  {
   "cell_type": "code",
   "execution_count": 6,
   "id": "WflMrX4jWADX",
   "metadata": {
    "executionInfo": {
     "elapsed": 3,
     "status": "ok",
     "timestamp": 1650618986804,
     "user": {
      "displayName": "Александр Солодов",
      "userId": "11087729178682501993"
     },
     "user_tz": -180
    },
    "id": "WflMrX4jWADX"
   },
   "outputs": [],
   "source": [
    "def prepare_data(data):\n",
    "  data.fillna('', inplace=True)\n",
    "  data['text'] = data['title'].str.lower() + '. ' + data['short_description'].str.lower() + '. ' + data['name_value_characteristics'].str.lower()\n",
    "  data['len_text'] = train['text'].apply(lambda x: len(x))"
   ]
  },
  {
   "cell_type": "markdown",
   "id": "dedicated-installation",
   "metadata": {
    "id": "dedicated-installation"
   },
   "source": [
    "Загрузим тренировочный датасет:"
   ]
  },
  {
   "cell_type": "code",
   "execution_count": 7,
   "id": "positive-discount",
   "metadata": {
    "colab": {
     "base_uri": "https://localhost:8080/",
     "height": 206
    },
    "executionInfo": {
     "elapsed": 2569,
     "status": "ok",
     "timestamp": 1650618989370,
     "user": {
      "displayName": "Александр Солодов",
      "userId": "11087729178682501993"
     },
     "user_tz": -180
    },
    "id": "positive-discount",
    "outputId": "39af2d4d-7f00-435a-f8e4-b2111c2adfea"
   },
   "outputs": [
    {
     "data": {
      "text/html": [
       "<div>\n",
       "<style scoped>\n",
       "    .dataframe tbody tr th:only-of-type {\n",
       "        vertical-align: middle;\n",
       "    }\n",
       "\n",
       "    .dataframe tbody tr th {\n",
       "        vertical-align: top;\n",
       "    }\n",
       "\n",
       "    .dataframe thead th {\n",
       "        text-align: right;\n",
       "    }\n",
       "</style>\n",
       "<table border=\"1\" class=\"dataframe\">\n",
       "  <thead>\n",
       "    <tr style=\"text-align: right;\">\n",
       "      <th></th>\n",
       "      <th>id</th>\n",
       "      <th>title</th>\n",
       "      <th>short_description</th>\n",
       "      <th>name_value_characteristics</th>\n",
       "      <th>rating</th>\n",
       "      <th>feedback_quantity</th>\n",
       "      <th>category_id</th>\n",
       "      <th>text</th>\n",
       "      <th>len_text</th>\n",
       "    </tr>\n",
       "  </thead>\n",
       "  <tbody>\n",
       "    <tr>\n",
       "      <th>0</th>\n",
       "      <td>1267423</td>\n",
       "      <td>Muhle Manikure Песочные колпачки для педикюра ...</td>\n",
       "      <td>Muhle Manikure Колпачок песочный шлифовальный ...</td>\n",
       "      <td></td>\n",
       "      <td>0.000000</td>\n",
       "      <td>0</td>\n",
       "      <td>2693</td>\n",
       "      <td>muhle manikure песочные колпачки для педикюра ...</td>\n",
       "      <td>201</td>\n",
       "    </tr>\n",
       "    <tr>\n",
       "      <th>1</th>\n",
       "      <td>128833</td>\n",
       "      <td>Sony Xperia L1 Защитное стекло 2,5D</td>\n",
       "      <td></td>\n",
       "      <td></td>\n",
       "      <td>4.666667</td>\n",
       "      <td>9</td>\n",
       "      <td>13408</td>\n",
       "      <td>sony xperia l1 защитное стекло 2,5d. .</td>\n",
       "      <td>39</td>\n",
       "    </tr>\n",
       "    <tr>\n",
       "      <th>2</th>\n",
       "      <td>569924</td>\n",
       "      <td>Конверт для денег Прекрасная роза, 16,5 х 8 см</td>\n",
       "      <td>Конверт для денег «Прекрасная роза», 16,5 × 8 см</td>\n",
       "      <td></td>\n",
       "      <td>5.000000</td>\n",
       "      <td>6</td>\n",
       "      <td>11790</td>\n",
       "      <td>конверт для денег прекрасная роза, 16,5 х 8 см...</td>\n",
       "      <td>98</td>\n",
       "    </tr>\n",
       "    <tr>\n",
       "      <th>3</th>\n",
       "      <td>1264824</td>\n",
       "      <td>Серьги</td>\n",
       "      <td></td>\n",
       "      <td></td>\n",
       "      <td>0.000000</td>\n",
       "      <td>0</td>\n",
       "      <td>14076</td>\n",
       "      <td>серьги. .</td>\n",
       "      <td>10</td>\n",
       "    </tr>\n",
       "    <tr>\n",
       "      <th>4</th>\n",
       "      <td>1339052</td>\n",
       "      <td>Наклейки на унитаз для туалета на крышку бачок...</td>\n",
       "      <td>Водостойкая, интересная наклейка на унитаз раз...</td>\n",
       "      <td></td>\n",
       "      <td>0.000000</td>\n",
       "      <td>0</td>\n",
       "      <td>12401</td>\n",
       "      <td>наклейки на унитаз для туалета на крышку бачок...</td>\n",
       "      <td>148</td>\n",
       "    </tr>\n",
       "  </tbody>\n",
       "</table>\n",
       "</div>"
      ],
      "text/plain": [
       "        id                                              title  \\\n",
       "0  1267423  Muhle Manikure Песочные колпачки для педикюра ...   \n",
       "1   128833                Sony Xperia L1 Защитное стекло 2,5D   \n",
       "2   569924     Конверт для денег Прекрасная роза, 16,5 х 8 см   \n",
       "3  1264824                                             Серьги   \n",
       "4  1339052  Наклейки на унитаз для туалета на крышку бачок...   \n",
       "\n",
       "                                   short_description  \\\n",
       "0  Muhle Manikure Колпачок песочный шлифовальный ...   \n",
       "1                                                      \n",
       "2   Конверт для денег «Прекрасная роза», 16,5 × 8 см   \n",
       "3                                                      \n",
       "4  Водостойкая, интересная наклейка на унитаз раз...   \n",
       "\n",
       "  name_value_characteristics    rating  feedback_quantity  category_id  \\\n",
       "0                             0.000000                  0         2693   \n",
       "1                             4.666667                  9        13408   \n",
       "2                             5.000000                  6        11790   \n",
       "3                             0.000000                  0        14076   \n",
       "4                             0.000000                  0        12401   \n",
       "\n",
       "                                                text  len_text  \n",
       "0  muhle manikure песочные колпачки для педикюра ...       201  \n",
       "1            sony xperia l1 защитное стекло 2,5d. .         39  \n",
       "2  конверт для денег прекрасная роза, 16,5 х 8 см...        98  \n",
       "3                                         серьги. .         10  \n",
       "4  наклейки на унитаз для туалета на крышку бачок...       148  "
      ]
     },
     "execution_count": 7,
     "metadata": {},
     "output_type": "execute_result"
    }
   ],
   "source": [
    "train = pd.read_parquet('/home/voland/vscode/Jupyter_projects/kazanexpress-categorization-of-product/train.parquet')\n",
    "prepare_data(train)\n",
    "train.head()"
   ]
  },
  {
   "cell_type": "markdown",
   "id": "GA02HmhHglwb",
   "metadata": {
    "id": "GA02HmhHglwb"
   },
   "source": [
    "Посмотрим количество категорий в 'category_id':"
   ]
  },
  {
   "cell_type": "code",
   "execution_count": 8,
   "id": "jmASBl1DO0l6",
   "metadata": {
    "colab": {
     "base_uri": "https://localhost:8080/"
    },
    "executionInfo": {
     "elapsed": 12,
     "status": "ok",
     "timestamp": 1650618989371,
     "user": {
      "displayName": "Александр Солодов",
      "userId": "11087729178682501993"
     },
     "user_tz": -180
    },
    "id": "jmASBl1DO0l6",
    "outputId": "aa2c9bc9-0ba2-415a-cc66-9fe1ae59a383"
   },
   "outputs": [
    {
     "name": "stdout",
     "output_type": "stream",
     "text": [
      "Общее количество конечных категорий: 1231\n"
     ]
    }
   ],
   "source": [
    "num_classes =  len(set(train.category_id.values))\n",
    "print('Общее количество конечных категорий: {}'.format(num_classes))"
   ]
  },
  {
   "cell_type": "markdown",
   "id": "3hBvig_DgoTK",
   "metadata": {
    "id": "3hBvig_DgoTK"
   },
   "source": [
    "Проверим, что все целевые категории в тренировочном датасете являются \"листовыми\" (из них нет ветвления на более мелкие категории):"
   ]
  },
  {
   "cell_type": "code",
   "execution_count": 9,
   "id": "tbn7r4u6gptV",
   "metadata": {
    "colab": {
     "base_uri": "https://localhost:8080/"
    },
    "executionInfo": {
     "elapsed": 10,
     "status": "ok",
     "timestamp": 1650618989371,
     "user": {
      "displayName": "Александр Солодов",
      "userId": "11087729178682501993"
     },
     "user_tz": -180
    },
    "id": "tbn7r4u6gptV",
    "outputId": "6bbe126a-02bc-4a3f-d4dd-4435f9fa561e"
   },
   "outputs": [
    {
     "name": "stdout",
     "output_type": "stream",
     "text": [
      "Все целевые категории являются листовыми.\n"
     ]
    }
   ],
   "source": [
    "categories = set(train.category_id.values)\n",
    "list_nodes_test = []\n",
    "for node in set(categories):\n",
    "    if len(list(G[node])) > 0:\n",
    "        list_nodes_test.append(node)\n",
    "if len(list_nodes_test) == 0:\n",
    "    print('Все целевые категории являются листовыми.')\n",
    "else:\n",
    "    print('В целевых метках присутствуют нелистовые категории:')\n",
    "    print(list_nodes_test)"
   ]
  },
  {
   "cell_type": "markdown",
   "id": "8EXmhP4ygvXT",
   "metadata": {
    "id": "8EXmhP4ygvXT"
   },
   "source": [
    "Распределение количества элементов в каждом классе:"
   ]
  },
  {
   "cell_type": "code",
   "execution_count": 10,
   "id": "5CrFSyk4gs0C",
   "metadata": {
    "colab": {
     "base_uri": "https://localhost:8080/",
     "height": 282
    },
    "executionInfo": {
     "elapsed": 9,
     "status": "ok",
     "timestamp": 1650618989371,
     "user": {
      "displayName": "Александр Солодов",
      "userId": "11087729178682501993"
     },
     "user_tz": -180
    },
    "id": "5CrFSyk4gs0C",
    "outputId": "79c40d47-89fb-4f84-efb4-880ebe28c2a7"
   },
   "outputs": [
    {
     "data": {
      "text/plain": [
       "<AxesSubplot:>"
      ]
     },
     "execution_count": 10,
     "metadata": {},
     "output_type": "execute_result"
    },
    {
     "data": {
      "image/png": "[encoded data removed]",
      "text/plain": [
       "<Figure size 432x288 with 1 Axes>"
      ]
     },
     "metadata": {
      "needs_background": "light"
     },
     "output_type": "display_data"
    }
   ],
   "source": [
    "train['category_id'].value_counts().hist()"
   ]
  },
  {
   "cell_type": "code",
   "execution_count": 11,
   "id": "faNUn5rCgz0Z",
   "metadata": {
    "colab": {
     "base_uri": "https://localhost:8080/",
     "height": 500
    },
    "executionInfo": {
     "elapsed": 918,
     "status": "ok",
     "timestamp": 1650618990281,
     "user": {
      "displayName": "Александр Солодов",
      "userId": "11087729178682501993"
     },
     "user_tz": -180
    },
    "id": "faNUn5rCgz0Z",
    "outputId": "0d427174-10f8-4b45-b837-51ce6b4fe15d"
   },
   "outputs": [
    {
     "data": {
      "text/plain": [
       "<AxesSubplot:>"
      ]
     },
     "execution_count": 11,
     "metadata": {},
     "output_type": "execute_result"
    },
    {
     "data": {
      "image/png": "[encoded data removed]",
      "text/plain": [
       "<Figure size 1152x576 with 1 Axes>"
      ]
     },
     "metadata": {
      "needs_background": "light"
     },
     "output_type": "display_data"
    }
   ],
   "source": [
    "category_cnt = train['category_id'].value_counts().reset_index()\n",
    "category_cnt[category_cnt['category_id'] < 1000]['category_id'].hist(bins=40, figsize=(16, 8))"
   ]
  },
  {
   "cell_type": "markdown",
   "id": "nc4azG3Ng1Py",
   "metadata": {
    "id": "nc4azG3Ng1Py"
   },
   "source": [
    "Видим, что достаточно большое количество категорий (более 500) содержит малое количество примеров в обучающей выборке (менее 50). Почти 200 категорий содержат менее 10 примеров."
   ]
  },
  {
   "cell_type": "markdown",
   "id": "sB1E0MFGg61T",
   "metadata": {
    "id": "sB1E0MFGg61T"
   },
   "source": [
    "Посмотрим на распределение длительности текста:"
   ]
  },
  {
   "cell_type": "code",
   "execution_count": 12,
   "id": "pfxiOvNnPgWB",
   "metadata": {
    "colab": {
     "base_uri": "https://localhost:8080/",
     "height": 282
    },
    "executionInfo": {
     "elapsed": 5,
     "status": "ok",
     "timestamp": 1650618990281,
     "user": {
      "displayName": "Александр Солодов",
      "userId": "11087729178682501993"
     },
     "user_tz": -180
    },
    "id": "pfxiOvNnPgWB",
    "outputId": "68ec4ef1-dc40-41ff-eb98-8416770ac5de"
   },
   "outputs": [
    {
     "data": {
      "text/plain": [
       "<AxesSubplot:>"
      ]
     },
     "execution_count": 12,
     "metadata": {},
     "output_type": "execute_result"
    },
    {
     "data": {
      "image/png": "[encoded data removed]",
      "text/plain": [
       "<Figure size 432x288 with 1 Axes>"
      ]
     },
     "metadata": {
      "needs_background": "light"
     },
     "output_type": "display_data"
    }
   ],
   "source": [
    "train['len_text'].hist()"
   ]
  },
  {
   "cell_type": "markdown",
   "id": "bkzeT_NphYRT",
   "metadata": {
    "id": "bkzeT_NphYRT"
   },
   "source": [
    "Большая часть описаний товаров составляет до 250 символов"
   ]
  },
  {
   "cell_type": "markdown",
   "id": "lyric-swiss",
   "metadata": {
    "id": "lyric-swiss"
   },
   "source": [
    "Для дальнейшей работы модели переведем целевые категории в one-hot формат:"
   ]
  },
  {
   "cell_type": "code",
   "execution_count": 13,
   "id": "opening-resort",
   "metadata": {
    "executionInfo": {
     "elapsed": 1404,
     "status": "ok",
     "timestamp": 1650618991682,
     "user": {
      "displayName": "Александр Солодов",
      "userId": "11087729178682501993"
     },
     "user_tz": -180
    },
    "id": "opening-resort"
   },
   "outputs": [],
   "source": [
    "train['category_id_obj'] = train['category_id'].astype('category')\n",
    "train_cat = pd.get_dummies(train[['category_id_obj']], prefix='', prefix_sep='', sparse = False)\n",
    "train = pd.concat([train, train_cat], axis = 1)\n",
    "target_names = train_cat.columns\n",
    "target_names = list(train_cat.columns)"
   ]
  },
  {
   "cell_type": "markdown",
   "id": "Lzy-FXrVXlDH",
   "metadata": {
    "id": "Lzy-FXrVXlDH"
   },
   "source": [
    "Разобьем выборку на тестовые и валидационные данные"
   ]
  },
  {
   "cell_type": "code",
   "execution_count": 14,
   "id": "zD1c2aQEXn7f",
   "metadata": {
    "executionInfo": {
     "elapsed": 3766,
     "status": "ok",
     "timestamp": 1650618995446,
     "user": {
      "displayName": "Александр Солодов",
      "userId": "11087729178682501993"
     },
     "user_tz": -180
    },
    "id": "zD1c2aQEXn7f"
   },
   "outputs": [],
   "source": [
    "df_train, df_val = train_test_split(train, test_size=0.1, stratify=train.category_id, random_state=42)"
   ]
  },
  {
   "cell_type": "markdown",
   "id": "aware-filling",
   "metadata": {
    "id": "aware-filling"
   },
   "source": [
    "# Построение нейронной сети"
   ]
  },
  {
   "cell_type": "code",
   "execution_count": 15,
   "id": "latin-endorsement",
   "metadata": {
    "executionInfo": {
     "elapsed": 388,
     "status": "ok",
     "timestamp": 1650619034553,
     "user": {
      "displayName": "Александр Солодов",
      "userId": "11087729178682501993"
     },
     "user_tz": -180
    },
    "id": "latin-endorsement"
   },
   "outputs": [],
   "source": [
    "from models import KEDataset, BertClasifyByCLS\n",
    "from utils import seed_everything, get_path, get_hF, train_epoch, val_epoch, infer, infer_single, train_model"
   ]
  },
  {
   "cell_type": "code",
   "execution_count": 17,
   "id": "indirect-selection",
   "metadata": {
    "colab": {
     "base_uri": "https://localhost:8080/",
     "height": 561,
     "referenced_widgets": [
      "66588bcec71e4333a006e03aa16e530f",
      "ea82c555d6754955a689c87b3925277e",
      "63e8b2e28dd24c809486cbcea074c8a6",
      "90c88ce77c0b489893488a71f91cf6cf",
      "feb8c77ce1974b248dd7cccdecf08a6d",
      "52106e8ef0bb4c65a231d8c1e5420a6e",
      "3c26159782b74496844f375fec61e383",
      "1e14032322954562b5f51f78e1675b61",
      "d3da8b3c68cb463a8d78d1520e6a61cf",
      "b1a6fc3ff24f42f4b732ea2283b63154",
      "28acd31243694e91b16ba9809ff17df7",
      "d480eff16c9d45bcb00af062abd5b199",
      "520179ce4a8e411aa0e19bff533c04e9",
      "d5851b70d2fe49418a5180462e0f354b",
      "ddd40e9bf9624c79882083ab76671ad3",
      "efdf03e2ecbf428295e307109b1a167f",
      "a6cc0fe739c84033a407c3327825829a",
      "f9a367229aa34173979134a5cba46535",
      "55f1b989e5f844f59660e92859aac9f6",
      "72195f1fac4e4d27b2aa4641f57aeca7",
      "5211acd25df6426eba135337952484e5",
      "8b794c613cf34e69aa82d1d931e3ae5d",
      "ba65473ef5ac4b32a3d27163a6192e51",
      "6506e4b2bef648fea17d38043cf8619f",
      "b5f1eca760a34f7698b3a9aab5120c05",
      "b7f5759da8e14c7fab01202a46173eec",
      "3bc7ad63f7f44d40982378896c17056c",
      "c2eb6a8a41354129b77791d64e1f98ee",
      "2bf3a2dccd8b44a783473c1f4c8b117e",
      "d60131f389cd4f9d90793ad4ea49a301",
      "1ca92aee151441f3891d2cf75c7a37f6",
      "1ab1dbe203c04786a5587db4777f74b7",
      "b462b7afa335498a9a28f6616229594e",
      "1a304891fd7e4744b9eab969f1a955c5",
      "a0d9f009e98f43868ea2910c978b888c",
      "bea1fecee05144d8a0720dd764b05a5b",
      "1db7f6d0486b41e5ae000efdbb5ccc88",
      "10f12206880d402889e519a3d104bf94",
      "c8497774ba5d4a56b07787ada2d223b0",
      "15a7550ddff04bdf81f5126901f1cd3f",
      "96c24e8e0b8a47409378480a4956c2a8",
      "2d458c07d2be479bbc495a8a1179e99c",
      "6db2a23f430f4935aa837b5bb65b7776",
      "3b2bef0bc0aa4f3c92570bc67068ffa1",
      "bbb8feda7b784ec4a7540bfd67fc62a9",
      "7e53a22d78b54dbbb0aedcac06fdb965",
      "150e858dae8546749e6c2c984fd782fb",
      "c862d2b966034f1eaa311fbb300126ca",
      "a1ab24a18fd94b61b821886e69983c7e",
      "7d7f395897ca4f1d96ca2989356ef0e9",
      "ad8938cdd7b54e03bfddaa5ead3b248d",
      "6bd495d4385e4b1a84844447398864cc",
      "83addb69bd224fa5910e74c219b7cfaf",
      "25c2f23b17224dafa940e5a2b9b34931",
      "24cbf5dd18154388b529dc5882dd5cc0"
     ]
    },
    "executionInfo": {
     "elapsed": 8495542,
     "status": "ok",
     "timestamp": 1650627531793,
     "user": {
      "displayName": "Александр Солодов",
      "userId": "11087729178682501993"
     },
     "user_tz": -180
    },
    "id": "indirect-selection",
    "outputId": "f72f1664-b646-4df1-cad1-15ee8de0b33b"
   },
   "outputs": [
    {
     "name": "stderr",
     "output_type": "stream",
     "text": [
      "Some weights of the model checkpoint at cointegrated/rubert-tiny2 were not used when initializing BertModel: ['cls.predictions.transform.dense.weight', 'cls.seq_relationship.weight', 'cls.predictions.bias', 'cls.predictions.transform.dense.bias', 'cls.predictions.decoder.bias', 'cls.predictions.transform.LayerNorm.bias', 'cls.predictions.transform.LayerNorm.weight', 'cls.predictions.decoder.weight', 'cls.seq_relationship.bias']\n",
      "- This IS expected if you are initializing BertModel from the checkpoint of a model trained on another task or with another architecture (e.g. initializing a BertForSequenceClassification model from a BertForPreTraining model).\n",
      "- This IS NOT expected if you are initializing BertModel from the checkpoint of a model that you expect to be exactly identical (initializing a BertForSequenceClassification model from a BertForSequenceClassification model).\n",
      "100%|██████████| 7972/7972 [31:20<00:00,  4.24it/s]\n"
     ]
    },
    {
     "name": "stdout",
     "output_type": "stream",
     "text": [
      "train loss:  1.0774166820700735\n",
      "val loss:  0.6503377405182368\n",
      "val f1_score after 1 epoch: 0.8302053199745995\n",
      "new best score! Saving model...\n",
      "****************************************************************************************************\n"
     ]
    },
    {
     "name": "stderr",
     "output_type": "stream",
     "text": [
      "100%|██████████| 7972/7972 [31:16<00:00,  4.25it/s]\n"
     ]
    },
    {
     "name": "stdout",
     "output_type": "stream",
     "text": [
      "train loss:  0.5900218581366766\n",
      "val loss:  0.5993683286196222\n",
      "val f1_score after 2 epoch: 0.8424116277428915\n",
      "new best score! Saving model...\n",
      "****************************************************************************************************\n"
     ]
    },
    {
     "name": "stderr",
     "output_type": "stream",
     "text": [
      "100%|██████████| 7972/7972 [31:38<00:00,  4.20it/s]\n"
     ]
    },
    {
     "name": "stdout",
     "output_type": "stream",
     "text": [
      "train loss:  0.4020413401671225\n",
      "val loss:  0.6188197213794793\n",
      "val f1_score after 3 epoch: 0.8461864107810626\n",
      "new best score! Saving model...\n",
      "****************************************************************************************************\n"
     ]
    }
   ],
   "source": [
    "seed_everything(42)\n",
    "max_length = 512\n",
    "device = torch.device(\"cuda:0\" if torch.cuda.is_available() else \"cpu\")\n",
    "\n",
    "tokenizer = BertTokenizer.from_pretrained(\"cointegrated/rubert-tiny2\")\n",
    "bert = BertModel.from_pretrained(\"cointegrated/rubert-tiny2\")\n",
    "model = BertClasifyByCLS(bert, emd_size=312, num_classes=num_classes).to(device)\n",
    "\n",
    "train_ds = KEDataset(df_train, tokenizer, max_length, target_names=target_names)\n",
    "train_loader = DataLoader(train_ds, shuffle=True, drop_last=True, batch_size=32)\n",
    "val_ds = KEDataset(df_val, tokenizer, max_length, target_names=target_names)\n",
    "val_loader = DataLoader(val_ds, shuffle=False, drop_last=False, batch_size=32)\n",
    "\n",
    "loss_function = torch.nn.CrossEntropyLoss()\n",
    "optimizer = torch.optim.AdamW(lr=3e-4, params=model.parameters())\n",
    "\n",
    "train_model(model, loss_function, optimizer, train_loader, val_loader, target_names,\n",
    "            num_epoch=3, device=device, name_to_save=\"/home/voland/vscode/Jupyter_projects/kazanexpress-categorization-of-product/best_model.pt\",\n",
    "            needed_features=['input_ids', 'token_type_ids', 'attention_mask'])"
   ]
  },
  {
   "cell_type": "markdown",
   "id": "DGClxBwNYCJ_",
   "metadata": {
    "id": "DGClxBwNYCJ_"
   },
   "source": [
    "Оценим качество предсказаний на валидационной выборке:"
   ]
  },
  {
   "cell_type": "code",
   "execution_count": 18,
   "id": "hispanic-hudson",
   "metadata": {
    "colab": {
     "base_uri": "https://localhost:8080/"
    },
    "executionInfo": {
     "elapsed": 160405,
     "status": "ok",
     "timestamp": 1650627692194,
     "user": {
      "displayName": "Александр Солодов",
      "userId": "11087729178682501993"
     },
     "user_tz": -180
    },
    "id": "hispanic-hudson",
    "outputId": "58a0d584-99fa-40da-d87a-1d06ce4ca390"
   },
   "outputs": [
    {
     "name": "stderr",
     "output_type": "stream",
     "text": [
      "Some weights of the model checkpoint at cointegrated/rubert-tiny2 were not used when initializing BertModel: ['cls.predictions.transform.dense.weight', 'cls.seq_relationship.weight', 'cls.predictions.bias', 'cls.predictions.transform.dense.bias', 'cls.predictions.decoder.bias', 'cls.predictions.transform.LayerNorm.bias', 'cls.predictions.transform.LayerNorm.weight', 'cls.predictions.decoder.weight', 'cls.seq_relationship.bias']\n",
      "- This IS expected if you are initializing BertModel from the checkpoint of a model trained on another task or with another architecture (e.g. initializing a BertForSequenceClassification model from a BertForPreTraining model).\n",
      "- This IS NOT expected if you are initializing BertModel from the checkpoint of a model that you expect to be exactly identical (initializing a BertForSequenceClassification model from a BertForSequenceClassification model).\n",
      "100%|██████████| 886/886 [01:41<00:00,  8.72it/s]\n"
     ]
    }
   ],
   "source": [
    "device = torch.device(\"cuda:0\" if torch.cuda.is_available() else \"cpu\")\n",
    "\n",
    "max_length = 512\n",
    "tokenizer = BertTokenizer.from_pretrained(\"cointegrated/rubert-tiny2\")\n",
    "bert = BertModel.from_pretrained(\"cointegrated/rubert-tiny2\")\n",
    "model = BertClasifyByCLS(bert, emd_size=312, num_classes=num_classes).to(device)\n",
    "model = torch.load(\"/home/voland/vscode/Jupyter_projects/kazanexpress-categorization-of-product/best_model.pt\").eval()\n",
    "\n",
    "val_ds = KEDataset(df_val, tokenizer, max_length, target_names=target_names)\n",
    "val_loader = DataLoader(val_ds, shuffle=False, drop_last=False, batch_size=32)\n",
    "bert_prob_val = infer(model, val_loader, device)"
   ]
  },
  {
   "cell_type": "code",
   "execution_count": 19,
   "id": "5qBni7zJbVFk",
   "metadata": {
    "colab": {
     "base_uri": "https://localhost:8080/"
    },
    "executionInfo": {
     "elapsed": 530,
     "status": "ok",
     "timestamp": 1650627692714,
     "user": {
      "displayName": "Александр Солодов",
      "userId": "11087729178682501993"
     },
     "user_tz": -180
    },
    "id": "5qBni7zJbVFk",
    "outputId": "f10784aa-18e7-46e1-9f07-1e041f1a38b7"
   },
   "outputs": [
    {
     "name": "stdout",
     "output_type": "stream",
     "text": [
      "f1_score на валидационной выборке: 0.8461864107810626\n",
      "hF_score на валидационной выборке: 0.9384221904393532\n"
     ]
    }
   ],
   "source": [
    "arg = np.argmax(bert_prob_val, axis=1)\n",
    "pred = [int(target_names[i]) for i in arg]\n",
    "true_class = np.array(df_val['category_id_obj'].values)\n",
    "\n",
    "score_f1 = f1_score(true_class, pred, average='micro')\n",
    "score_hF = get_hF(G, true_class, pred)\n",
    "print('f1_score на валидационной выборке: {}'.format(score_f1))\n",
    "print('hF_score на валидационной выборке: {}'.format(score_hF))"
   ]
  },
  {
   "cell_type": "markdown",
   "id": "EDf5QhGZZWdo",
   "metadata": {
    "id": "EDf5QhGZZWdo"
   },
   "source": [
    "## Построение прогноза для тестовых данных"
   ]
  },
  {
   "cell_type": "code",
   "execution_count": 20,
   "id": "a5sw5aAMb6u7",
   "metadata": {
    "colab": {
     "base_uri": "https://localhost:8080/",
     "height": 0
    },
    "executionInfo": {
     "elapsed": 1568,
     "status": "ok",
     "timestamp": 1650627694281,
     "user": {
      "displayName": "Александр Солодов",
      "userId": "11087729178682501993"
     },
     "user_tz": -180
    },
    "id": "a5sw5aAMb6u7",
    "outputId": "7b0c5550-cbdc-4676-b1bc-1e369daeb78c"
   },
   "outputs": [
    {
     "data": {
      "text/html": [
       "<div>\n",
       "<style scoped>\n",
       "    .dataframe tbody tr th:only-of-type {\n",
       "        vertical-align: middle;\n",
       "    }\n",
       "\n",
       "    .dataframe tbody tr th {\n",
       "        vertical-align: top;\n",
       "    }\n",
       "\n",
       "    .dataframe thead th {\n",
       "        text-align: right;\n",
       "    }\n",
       "</style>\n",
       "<table border=\"1\" class=\"dataframe\">\n",
       "  <thead>\n",
       "    <tr style=\"text-align: right;\">\n",
       "      <th></th>\n",
       "      <th>id</th>\n",
       "      <th>title</th>\n",
       "      <th>short_description</th>\n",
       "      <th>name_value_characteristics</th>\n",
       "      <th>rating</th>\n",
       "      <th>feedback_quantity</th>\n",
       "      <th>text</th>\n",
       "      <th>len_text</th>\n",
       "    </tr>\n",
       "  </thead>\n",
       "  <tbody>\n",
       "    <tr>\n",
       "      <th>0</th>\n",
       "      <td>1070974</td>\n",
       "      <td>Браслет из натуральных камней LOTUS</td>\n",
       "      <td></td>\n",
       "      <td></td>\n",
       "      <td>0.000000</td>\n",
       "      <td>0</td>\n",
       "      <td>браслет из натуральных камней lotus. .</td>\n",
       "      <td>201</td>\n",
       "    </tr>\n",
       "    <tr>\n",
       "      <th>1</th>\n",
       "      <td>450413</td>\n",
       "      <td>Fusion Life - Шампунь для сухих и окрашенных в...</td>\n",
       "      <td></td>\n",
       "      <td></td>\n",
       "      <td>4.333333</td>\n",
       "      <td>6</td>\n",
       "      <td>fusion life - шампунь для сухих и окрашенных в...</td>\n",
       "      <td>39</td>\n",
       "    </tr>\n",
       "    <tr>\n",
       "      <th>2</th>\n",
       "      <td>126857</td>\n",
       "      <td>Микрофон для ПК jack 3,5мм всенаправленный</td>\n",
       "      <td>универсальный 3,5 мм микрофон запишет ваш звук</td>\n",
       "      <td></td>\n",
       "      <td>3.708333</td>\n",
       "      <td>24</td>\n",
       "      <td>микрофон для пк jack 3,5мм всенаправленный. ун...</td>\n",
       "      <td>98</td>\n",
       "    </tr>\n",
       "    <tr>\n",
       "      <th>3</th>\n",
       "      <td>1577569</td>\n",
       "      <td>Серьги гвоздики сердце</td>\n",
       "      <td>Серьги гвоздики сердце</td>\n",
       "      <td></td>\n",
       "      <td>0.000000</td>\n",
       "      <td>0</td>\n",
       "      <td>серьги гвоздики сердце. серьги гвоздики сердце.</td>\n",
       "      <td>10</td>\n",
       "    </tr>\n",
       "    <tr>\n",
       "      <th>4</th>\n",
       "      <td>869328</td>\n",
       "      <td>Чёрно-красная стильная брошь \"Тюльпаны\" из акр...</td>\n",
       "      <td>Стильная и яркая брошь ручной работы! Великоле...</td>\n",
       "      <td></td>\n",
       "      <td>0.000000</td>\n",
       "      <td>0</td>\n",
       "      <td>чёрно-красная стильная брошь \"тюльпаны\" из акр...</td>\n",
       "      <td>148</td>\n",
       "    </tr>\n",
       "  </tbody>\n",
       "</table>\n",
       "</div>"
      ],
      "text/plain": [
       "        id                                              title  \\\n",
       "0  1070974                Браслет из натуральных камней LOTUS   \n",
       "1   450413  Fusion Life - Шампунь для сухих и окрашенных в...   \n",
       "2   126857         Микрофон для ПК jack 3,5мм всенаправленный   \n",
       "3  1577569                             Серьги гвоздики сердце   \n",
       "4   869328  Чёрно-красная стильная брошь \"Тюльпаны\" из акр...   \n",
       "\n",
       "                                   short_description  \\\n",
       "0                                                      \n",
       "1                                                      \n",
       "2     универсальный 3,5 мм микрофон запишет ваш звук   \n",
       "3                             Серьги гвоздики сердце   \n",
       "4  Стильная и яркая брошь ручной работы! Великоле...   \n",
       "\n",
       "  name_value_characteristics    rating  feedback_quantity  \\\n",
       "0                             0.000000                  0   \n",
       "1                             4.333333                  6   \n",
       "2                             3.708333                 24   \n",
       "3                             0.000000                  0   \n",
       "4                             0.000000                  0   \n",
       "\n",
       "                                                text  len_text  \n",
       "0            браслет из натуральных камней lotus. .        201  \n",
       "1  fusion life - шампунь для сухих и окрашенных в...        39  \n",
       "2  микрофон для пк jack 3,5мм всенаправленный. ун...        98  \n",
       "3   серьги гвоздики сердце. серьги гвоздики сердце.         10  \n",
       "4  чёрно-красная стильная брошь \"тюльпаны\" из акр...       148  "
      ]
     },
     "execution_count": 20,
     "metadata": {},
     "output_type": "execute_result"
    }
   ],
   "source": [
    "test = pd.read_parquet('/home/voland/vscode/Jupyter_projects/kazanexpress-categorization-of-product/test.parquet')\n",
    "prepare_data(test)\n",
    "test.head()"
   ]
  },
  {
   "cell_type": "code",
   "execution_count": 22,
   "id": "T2wfwRHtZvnP",
   "metadata": {
    "colab": {
     "base_uri": "https://localhost:8080/"
    },
    "executionInfo": {
     "elapsed": 355586,
     "status": "ok",
     "timestamp": 1650628049865,
     "user": {
      "displayName": "Александр Солодов",
      "userId": "11087729178682501993"
     },
     "user_tz": -180
    },
    "id": "T2wfwRHtZvnP",
    "outputId": "44896583-7f05-40e1-8ff9-df1905db1d96"
   },
   "outputs": [
    {
     "name": "stderr",
     "output_type": "stream",
     "text": [
      "Some weights of the model checkpoint at cointegrated/rubert-tiny2 were not used when initializing BertModel: ['cls.predictions.transform.dense.weight', 'cls.seq_relationship.weight', 'cls.predictions.bias', 'cls.predictions.transform.dense.bias', 'cls.predictions.decoder.bias', 'cls.predictions.transform.LayerNorm.bias', 'cls.predictions.transform.LayerNorm.weight', 'cls.predictions.decoder.weight', 'cls.seq_relationship.bias']\n",
      "- This IS expected if you are initializing BertModel from the checkpoint of a model trained on another task or with another architecture (e.g. initializing a BertForSequenceClassification model from a BertForPreTraining model).\n",
      "- This IS NOT expected if you are initializing BertModel from the checkpoint of a model that you expect to be exactly identical (initializing a BertForSequenceClassification model from a BertForSequenceClassification model).\n",
      "100%|██████████| 2215/2215 [03:25<00:00, 10.80it/s]\n"
     ]
    }
   ],
   "source": [
    "device = torch.device(\"cuda:0\" if torch.cuda.is_available() else \"cpu\")\n",
    "\n",
    "max_length = 512\n",
    "tokenizer = BertTokenizer.from_pretrained(\"cointegrated/rubert-tiny2\")\n",
    "bert = BertModel.from_pretrained(\"cointegrated/rubert-tiny2\")\n",
    "model = BertClasifyByCLS(bert, emd_size=312, num_classes=num_classes).to(device)\n",
    "model = torch.load(\"/home/voland/vscode/Jupyter_projects/kazanexpress-categorization-of-product/best_model.pt\").eval()\n",
    "\n",
    "test_ds = KEDataset(test, tokenizer, max_length, is_test=True, target_names=target_names)\n",
    "test_loader = DataLoader(test_ds, shuffle=False, drop_last=False, batch_size=32)\n",
    "bert_prob_test = infer(model, test_loader, device)"
   ]
  },
  {
   "cell_type": "code",
   "execution_count": 23,
   "id": "DIwwHe8kZvqn",
   "metadata": {
    "executionInfo": {
     "elapsed": 650,
     "status": "ok",
     "timestamp": 1650628050508,
     "user": {
      "displayName": "Александр Солодов",
      "userId": "11087729178682501993"
     },
     "user_tz": -180
    },
    "id": "DIwwHe8kZvqn"
   },
   "outputs": [],
   "source": [
    "arg = np.argmax(bert_prob_test, axis=1)\n",
    "pred_test = [int(target_names[i]) for i in arg]"
   ]
  },
  {
   "cell_type": "code",
   "execution_count": 24,
   "id": "b3fxlhRtZvwP",
   "metadata": {
    "colab": {
     "base_uri": "https://localhost:8080/",
     "height": 0
    },
    "executionInfo": {
     "elapsed": 9,
     "status": "ok",
     "timestamp": 1650628050509,
     "user": {
      "displayName": "Александр Солодов",
      "userId": "11087729178682501993"
     },
     "user_tz": -180
    },
    "id": "b3fxlhRtZvwP",
    "outputId": "e74b2cd7-a206-49e4-c572-a955e74bb343"
   },
   "outputs": [
    {
     "data": {
      "text/html": [
       "<div>\n",
       "<style scoped>\n",
       "    .dataframe tbody tr th:only-of-type {\n",
       "        vertical-align: middle;\n",
       "    }\n",
       "\n",
       "    .dataframe tbody tr th {\n",
       "        vertical-align: top;\n",
       "    }\n",
       "\n",
       "    .dataframe thead th {\n",
       "        text-align: right;\n",
       "    }\n",
       "</style>\n",
       "<table border=\"1\" class=\"dataframe\">\n",
       "  <thead>\n",
       "    <tr style=\"text-align: right;\">\n",
       "      <th></th>\n",
       "      <th>id</th>\n",
       "      <th>predicted_category_id</th>\n",
       "    </tr>\n",
       "  </thead>\n",
       "  <tbody>\n",
       "    <tr>\n",
       "      <th>0</th>\n",
       "      <td>1070974</td>\n",
       "      <td>11574</td>\n",
       "    </tr>\n",
       "    <tr>\n",
       "      <th>1</th>\n",
       "      <td>450413</td>\n",
       "      <td>11878</td>\n",
       "    </tr>\n",
       "    <tr>\n",
       "      <th>2</th>\n",
       "      <td>126857</td>\n",
       "      <td>13299</td>\n",
       "    </tr>\n",
       "    <tr>\n",
       "      <th>3</th>\n",
       "      <td>1577569</td>\n",
       "      <td>13061</td>\n",
       "    </tr>\n",
       "    <tr>\n",
       "      <th>4</th>\n",
       "      <td>869328</td>\n",
       "      <td>12813</td>\n",
       "    </tr>\n",
       "    <tr>\n",
       "      <th>...</th>\n",
       "      <td>...</td>\n",
       "      <td>...</td>\n",
       "    </tr>\n",
       "    <tr>\n",
       "      <th>70859</th>\n",
       "      <td>967535</td>\n",
       "      <td>13143</td>\n",
       "    </tr>\n",
       "    <tr>\n",
       "      <th>70860</th>\n",
       "      <td>1488636</td>\n",
       "      <td>12718</td>\n",
       "    </tr>\n",
       "    <tr>\n",
       "      <th>70861</th>\n",
       "      <td>827510</td>\n",
       "      <td>14171</td>\n",
       "    </tr>\n",
       "    <tr>\n",
       "      <th>70862</th>\n",
       "      <td>529244</td>\n",
       "      <td>11899</td>\n",
       "    </tr>\n",
       "    <tr>\n",
       "      <th>70863</th>\n",
       "      <td>1400885</td>\n",
       "      <td>11597</td>\n",
       "    </tr>\n",
       "  </tbody>\n",
       "</table>\n",
       "<p>70864 rows × 2 columns</p>\n",
       "</div>"
      ],
      "text/plain": [
       "            id  predicted_category_id\n",
       "0      1070974                  11574\n",
       "1       450413                  11878\n",
       "2       126857                  13299\n",
       "3      1577569                  13061\n",
       "4       869328                  12813\n",
       "...        ...                    ...\n",
       "70859   967535                  13143\n",
       "70860  1488636                  12718\n",
       "70861   827510                  14171\n",
       "70862   529244                  11899\n",
       "70863  1400885                  11597\n",
       "\n",
       "[70864 rows x 2 columns]"
      ]
     },
     "execution_count": 24,
     "metadata": {},
     "output_type": "execute_result"
    }
   ],
   "source": [
    "test['predicted_category_id'] = pred_test\n",
    "result = test[['id', 'predicted_category_id']]\n",
    "result"
   ]
  },
  {
   "cell_type": "code",
   "execution_count": 25,
   "id": "zHMHLjdQZvzX",
   "metadata": {
    "executionInfo": {
     "elapsed": 8,
     "status": "ok",
     "timestamp": 1650628050509,
     "user": {
      "displayName": "Александр Солодов",
      "userId": "11087729178682501993"
     },
     "user_tz": -180
    },
    "id": "zHMHLjdQZvzX"
   },
   "outputs": [],
   "source": [
    "result.to_parquet('/home/voland/vscode/Jupyter_projects/kazanexpress-categorization-of-product/result.parquet')"
   ]
  }
 ],
 "metadata": {
  "accelerator": "GPU",
  "colab": {
   "collapsed_sections": [],
   "machine_shape": "hm",
   "name": "Solution_rubert.ipynb",
   "provenance": []
  },
  "kernelspec": {
   "display_name": "Python 3",
   "language": "python",
   "name": "python3"
  },
  "language_info": {
   "codemirror_mode": {
    "name": "ipython",
    "version": 3
   },
   "file_extension": ".py",
   "mimetype": "text/x-python",
   "name": "python",
   "nbconvert_exporter": "python",
   "pygments_lexer": "ipython3",
   "version": "3.6.5"
  },
  "widgets": {
   "application/vnd.jupyter.widget-state+json": {
    "10f12206880d402889e519a3d104bf94": {
     "model_module": "@jupyter-widgets/base",
     "model_module_version": "1.2.0",
     "model_name": "LayoutModel",
     "state": {
      "_model_module": "@jupyter-widgets/base",
      "_model_module_version": "1.2.0",
      "_model_name": "LayoutModel",
      "_view_count": null,
      "_view_module": "@jupyter-widgets/base",
      "_view_module_version": "1.2.0",
      "_view_name": "LayoutView",
      "align_content": null,
      "align_items": null,
      "align_self": null,
      "border": null,
      "bottom": null,
      "display": null,
      "flex": null,
      "flex_flow": null,
      "grid_area": null,
      "grid_auto_columns": null,
      "grid_auto_flow": null,
      "grid_auto_rows": null,
      "grid_column": null,
      "grid_gap": null,
      "grid_row": null,
      "grid_template_areas": null,
      "grid_template_columns": null,
      "grid_template_rows": null,
      "height": null,
      "justify_content": null,
      "justify_items": null,
      "left": null,
      "margin": null,
      "max_height": null,
      "max_width": null,
      "min_height": null,
      "min_width": null,
      "object_fit": null,
      "object_position": null,
      "order": null,
      "overflow": null,
      "overflow_x": null,
      "overflow_y": null,
      "padding": null,
      "right": null,
      "top": null,
      "visibility": null,
      "width": null
     }
    },
    "150e858dae8546749e6c2c984fd782fb": {
     "model_module": "@jupyter-widgets/controls",
     "model_module_version": "1.5.0",
     "model_name": "FloatProgressModel",
     "state": {
      "_dom_classes": [],
      "_model_module": "@jupyter-widgets/controls",
      "_model_module_version": "1.5.0",
      "_model_name": "FloatProgressModel",
      "_view_count": null,
      "_view_module": "@jupyter-widgets/controls",
      "_view_module_version": "1.5.0",
      "_view_name": "ProgressView",
      "bar_style": "success",
      "description": "",
      "description_tooltip": null,
      "layout": "IPY_MODEL_6bd495d4385e4b1a84844447398864cc",
      "max": 117546024,
      "min": 0,
      "orientation": "horizontal",
      "style": "IPY_MODEL_83addb69bd224fa5910e74c219b7cfaf",
      "value": 117546024
     }
    },
    "15a7550ddff04bdf81f5126901f1cd3f": {
     "model_module": "@jupyter-widgets/controls",
     "model_module_version": "1.5.0",
     "model_name": "DescriptionStyleModel",
     "state": {
      "_model_module": "@jupyter-widgets/controls",
      "_model_module_version": "1.5.0",
      "_model_name": "DescriptionStyleModel",
      "_view_count": null,
      "_view_module": "@jupyter-widgets/base",
      "_view_module_version": "1.2.0",
      "_view_name": "StyleView",
      "description_width": ""
     }
    },
    "1a304891fd7e4744b9eab969f1a955c5": {
     "model_module": "@jupyter-widgets/controls",
     "model_module_version": "1.5.0",
     "model_name": "HBoxModel",
     "state": {
      "_dom_classes": [],
      "_model_module": "@jupyter-widgets/controls",
      "_model_module_version": "1.5.0",
      "_model_name": "HBoxModel",
      "_view_count": null,
      "_view_module": "@jupyter-widgets/controls",
      "_view_module_version": "1.5.0",
      "_view_name": "HBoxView",
      "box_style": "",
      "children": [
       "IPY_MODEL_a0d9f009e98f43868ea2910c978b888c",
       "IPY_MODEL_bea1fecee05144d8a0720dd764b05a5b",
       "IPY_MODEL_1db7f6d0486b41e5ae000efdbb5ccc88"
      ],
      "layout": "IPY_MODEL_10f12206880d402889e519a3d104bf94"
     }
    },
    "1ab1dbe203c04786a5587db4777f74b7": {
     "model_module": "@jupyter-widgets/base",
     "model_module_version": "1.2.0",
     "model_name": "LayoutModel",
     "state": {
      "_model_module": "@jupyter-widgets/base",
      "_model_module_version": "1.2.0",
      "_model_name": "LayoutModel",
      "_view_count": null,
      "_view_module": "@jupyter-widgets/base",
      "_view_module_version": "1.2.0",
      "_view_name": "LayoutView",
      "align_content": null,
      "align_items": null,
      "align_self": null,
      "border": null,
      "bottom": null,
      "display": null,
      "flex": null,
      "flex_flow": null,
      "grid_area": null,
      "grid_auto_columns": null,
      "grid_auto_flow": null,
      "grid_auto_rows": null,
      "grid_column": null,
      "grid_gap": null,
      "grid_row": null,
      "grid_template_areas": null,
      "grid_template_columns": null,
      "grid_template_rows": null,
      "height": null,
      "justify_content": null,
      "justify_items": null,
      "left": null,
      "margin": null,
      "max_height": null,
      "max_width": null,
      "min_height": null,
      "min_width": null,
      "object_fit": null,
      "object_position": null,
      "order": null,
      "overflow": null,
      "overflow_x": null,
      "overflow_y": null,
      "padding": null,
      "right": null,
      "top": null,
      "visibility": null,
      "width": null
     }
    },
    "1ca92aee151441f3891d2cf75c7a37f6": {
     "model_module": "@jupyter-widgets/controls",
     "model_module_version": "1.5.0",
     "model_name": "ProgressStyleModel",
     "state": {
      "_model_module": "@jupyter-widgets/controls",
      "_model_module_version": "1.5.0",
      "_model_name": "ProgressStyleModel",
      "_view_count": null,
      "_view_module": "@jupyter-widgets/base",
      "_view_module_version": "1.2.0",
      "_view_name": "StyleView",
      "bar_color": null,
      "description_width": ""
     }
    },
    "1db7f6d0486b41e5ae000efdbb5ccc88": {
     "model_module": "@jupyter-widgets/controls",
     "model_module_version": "1.5.0",
     "model_name": "HTMLModel",
     "state": {
      "_dom_classes": [],
      "_model_module": "@jupyter-widgets/controls",
      "_model_module_version": "1.5.0",
      "_model_name": "HTMLModel",
      "_view_count": null,
      "_view_module": "@jupyter-widgets/controls",
      "_view_module_version": "1.5.0",
      "_view_name": "HTMLView",
      "description": "",
      "description_tooltip": null,
      "layout": "IPY_MODEL_6db2a23f430f4935aa837b5bb65b7776",
      "placeholder": "​",
      "style": "IPY_MODEL_3b2bef0bc0aa4f3c92570bc67068ffa1",
      "value": " 715/715 [00:00&lt;00:00, 10.6kB/s]"
     }
    },
    "1e14032322954562b5f51f78e1675b61": {
     "model_module": "@jupyter-widgets/base",
     "model_module_version": "1.2.0",
     "model_name": "LayoutModel",
     "state": {
      "_model_module": "@jupyter-widgets/base",
      "_model_module_version": "1.2.0",
      "_model_name": "LayoutModel",
      "_view_count": null,
      "_view_module": "@jupyter-widgets/base",
      "_view_module_version": "1.2.0",
      "_view_name": "LayoutView",
      "align_content": null,
      "align_items": null,
      "align_self": null,
      "border": null,
      "bottom": null,
      "display": null,
      "flex": null,
      "flex_flow": null,
      "grid_area": null,
      "grid_auto_columns": null,
      "grid_auto_flow": null,
      "grid_auto_rows": null,
      "grid_column": null,
      "grid_gap": null,
      "grid_row": null,
      "grid_template_areas": null,
      "grid_template_columns": null,
      "grid_template_rows": null,
      "height": null,
      "justify_content": null,
      "justify_items": null,
      "left": null,
      "margin": null,
      "max_height": null,
      "max_width": null,
      "min_height": null,
      "min_width": null,
      "object_fit": null,
      "object_position": null,
      "order": null,
      "overflow": null,
      "overflow_x": null,
      "overflow_y": null,
      "padding": null,
      "right": null,
      "top": null,
      "visibility": null,
      "width": null
     }
    },
    "24cbf5dd18154388b529dc5882dd5cc0": {
     "model_module": "@jupyter-widgets/controls",
     "model_module_version": "1.5.0",
     "model_name": "DescriptionStyleModel",
     "state": {
      "_model_module": "@jupyter-widgets/controls",
      "_model_module_version": "1.5.0",
      "_model_name": "DescriptionStyleModel",
      "_view_count": null,
      "_view_module": "@jupyter-widgets/base",
      "_view_module_version": "1.2.0",
      "_view_name": "StyleView",
      "description_width": ""
     }
    },
    "25c2f23b17224dafa940e5a2b9b34931": {
     "model_module": "@jupyter-widgets/base",
     "model_module_version": "1.2.0",
     "model_name": "LayoutModel",
     "state": {
      "_model_module": "@jupyter-widgets/base",
      "_model_module_version": "1.2.0",
      "_model_name": "LayoutModel",
      "_view_count": null,
      "_view_module": "@jupyter-widgets/base",
      "_view_module_version": "1.2.0",
      "_view_name": "LayoutView",
      "align_content": null,
      "align_items": null,
      "align_self": null,
      "border": null,
      "bottom": null,
      "display": null,
      "flex": null,
      "flex_flow": null,
      "grid_area": null,
      "grid_auto_columns": null,
      "grid_auto_flow": null,
      "grid_auto_rows": null,
      "grid_column": null,
      "grid_gap": null,
      "grid_row": null,
      "grid_template_areas": null,
      "grid_template_columns": null,
      "grid_template_rows": null,
      "height": null,
      "justify_content": null,
      "justify_items": null,
      "left": null,
      "margin": null,
      "max_height": null,
      "max_width": null,
      "min_height": null,
      "min_width": null,
      "object_fit": null,
      "object_position": null,
      "order": null,
      "overflow": null,
      "overflow_x": null,
      "overflow_y": null,
      "padding": null,
      "right": null,
      "top": null,
      "visibility": null,
      "width": null
     }
    },
    "28acd31243694e91b16ba9809ff17df7": {
     "model_module": "@jupyter-widgets/controls",
     "model_module_version": "1.5.0",
     "model_name": "DescriptionStyleModel",
     "state": {
      "_model_module": "@jupyter-widgets/controls",
      "_model_module_version": "1.5.0",
      "_model_name": "DescriptionStyleModel",
      "_view_count": null,
      "_view_module": "@jupyter-widgets/base",
      "_view_module_version": "1.2.0",
      "_view_name": "StyleView",
      "description_width": ""
     }
    },
    "2bf3a2dccd8b44a783473c1f4c8b117e": {
     "model_module": "@jupyter-widgets/controls",
     "model_module_version": "1.5.0",
     "model_name": "DescriptionStyleModel",
     "state": {
      "_model_module": "@jupyter-widgets/controls",
      "_model_module_version": "1.5.0",
      "_model_name": "DescriptionStyleModel",
      "_view_count": null,
      "_view_module": "@jupyter-widgets/base",
      "_view_module_version": "1.2.0",
      "_view_name": "StyleView",
      "description_width": ""
     }
    },
    "2d458c07d2be479bbc495a8a1179e99c": {
     "model_module": "@jupyter-widgets/controls",
     "model_module_version": "1.5.0",
     "model_name": "ProgressStyleModel",
     "state": {
      "_model_module": "@jupyter-widgets/controls",
      "_model_module_version": "1.5.0",
      "_model_name": "ProgressStyleModel",
      "_view_count": null,
      "_view_module": "@jupyter-widgets/base",
      "_view_module_version": "1.2.0",
      "_view_name": "StyleView",
      "bar_color": null,
      "description_width": ""
     }
    },
    "3b2bef0bc0aa4f3c92570bc67068ffa1": {
     "model_module": "@jupyter-widgets/controls",
     "model_module_version": "1.5.0",
     "model_name": "DescriptionStyleModel",
     "state": {
      "_model_module": "@jupyter-widgets/controls",
      "_model_module_version": "1.5.0",
      "_model_name": "DescriptionStyleModel",
      "_view_count": null,
      "_view_module": "@jupyter-widgets/base",
      "_view_module_version": "1.2.0",
      "_view_name": "StyleView",
      "description_width": ""
     }
    },
    "3bc7ad63f7f44d40982378896c17056c": {
     "model_module": "@jupyter-widgets/base",
     "model_module_version": "1.2.0",
     "model_name": "LayoutModel",
     "state": {
      "_model_module": "@jupyter-widgets/base",
      "_model_module_version": "1.2.0",
      "_model_name": "LayoutModel",
      "_view_count": null,
      "_view_module": "@jupyter-widgets/base",
      "_view_module_version": "1.2.0",
      "_view_name": "LayoutView",
      "align_content": null,
      "align_items": null,
      "align_self": null,
      "border": null,
      "bottom": null,
      "display": null,
      "flex": null,
      "flex_flow": null,
      "grid_area": null,
      "grid_auto_columns": null,
      "grid_auto_flow": null,
      "grid_auto_rows": null,
      "grid_column": null,
      "grid_gap": null,
      "grid_row": null,
      "grid_template_areas": null,
      "grid_template_columns": null,
      "grid_template_rows": null,
      "height": null,
      "justify_content": null,
      "justify_items": null,
      "left": null,
      "margin": null,
      "max_height": null,
      "max_width": null,
      "min_height": null,
      "min_width": null,
      "object_fit": null,
      "object_position": null,
      "order": null,
      "overflow": null,
      "overflow_x": null,
      "overflow_y": null,
      "padding": null,
      "right": null,
      "top": null,
      "visibility": null,
      "width": null
     }
    },
    "3c26159782b74496844f375fec61e383": {
     "model_module": "@jupyter-widgets/controls",
     "model_module_version": "1.5.0",
     "model_name": "DescriptionStyleModel",
     "state": {
      "_model_module": "@jupyter-widgets/controls",
      "_model_module_version": "1.5.0",
      "_model_name": "DescriptionStyleModel",
      "_view_count": null,
      "_view_module": "@jupyter-widgets/base",
      "_view_module_version": "1.2.0",
      "_view_name": "StyleView",
      "description_width": ""
     }
    },
    "520179ce4a8e411aa0e19bff533c04e9": {
     "model_module": "@jupyter-widgets/controls",
     "model_module_version": "1.5.0",
     "model_name": "HTMLModel",
     "state": {
      "_dom_classes": [],
      "_model_module": "@jupyter-widgets/controls",
      "_model_module_version": "1.5.0",
      "_model_name": "HTMLModel",
      "_view_count": null,
      "_view_module": "@jupyter-widgets/controls",
      "_view_module_version": "1.5.0",
      "_view_name": "HTMLView",
      "description": "",
      "description_tooltip": null,
      "layout": "IPY_MODEL_a6cc0fe739c84033a407c3327825829a",
      "placeholder": "​",
      "style": "IPY_MODEL_f9a367229aa34173979134a5cba46535",
      "value": "Downloading: 100%"
     }
    },
    "52106e8ef0bb4c65a231d8c1e5420a6e": {
     "model_module": "@jupyter-widgets/base",
     "model_module_version": "1.2.0",
     "model_name": "LayoutModel",
     "state": {
      "_model_module": "@jupyter-widgets/base",
      "_model_module_version": "1.2.0",
      "_model_name": "LayoutModel",
      "_view_count": null,
      "_view_module": "@jupyter-widgets/base",
      "_view_module_version": "1.2.0",
      "_view_name": "LayoutView",
      "align_content": null,
      "align_items": null,
      "align_self": null,
      "border": null,
      "bottom": null,
      "display": null,
      "flex": null,
      "flex_flow": null,
      "grid_area": null,
      "grid_auto_columns": null,
      "grid_auto_flow": null,
      "grid_auto_rows": null,
      "grid_column": null,
      "grid_gap": null,
      "grid_row": null,
      "grid_template_areas": null,
      "grid_template_columns": null,
      "grid_template_rows": null,
      "height": null,
      "justify_content": null,
      "justify_items": null,
      "left": null,
      "margin": null,
      "max_height": null,
      "max_width": null,
      "min_height": null,
      "min_width": null,
      "object_fit": null,
      "object_position": null,
      "order": null,
      "overflow": null,
      "overflow_x": null,
      "overflow_y": null,
      "padding": null,
      "right": null,
      "top": null,
      "visibility": null,
      "width": null
     }
    },
    "5211acd25df6426eba135337952484e5": {
     "model_module": "@jupyter-widgets/base",
     "model_module_version": "1.2.0",
     "model_name": "LayoutModel",
     "state": {
      "_model_module": "@jupyter-widgets/base",
      "_model_module_version": "1.2.0",
      "_model_name": "LayoutModel",
      "_view_count": null,
      "_view_module": "@jupyter-widgets/base",
      "_view_module_version": "1.2.0",
      "_view_name": "LayoutView",
      "align_content": null,
      "align_items": null,
      "align_self": null,
      "border": null,
      "bottom": null,
      "display": null,
      "flex": null,
      "flex_flow": null,
      "grid_area": null,
      "grid_auto_columns": null,
      "grid_auto_flow": null,
      "grid_auto_rows": null,
      "grid_column": null,
      "grid_gap": null,
      "grid_row": null,
      "grid_template_areas": null,
      "grid_template_columns": null,
      "grid_template_rows": null,
      "height": null,
      "justify_content": null,
      "justify_items": null,
      "left": null,
      "margin": null,
      "max_height": null,
      "max_width": null,
      "min_height": null,
      "min_width": null,
      "object_fit": null,
      "object_position": null,
      "order": null,
      "overflow": null,
      "overflow_x": null,
      "overflow_y": null,
      "padding": null,
      "right": null,
      "top": null,
      "visibility": null,
      "width": null
     }
    },
    "55f1b989e5f844f59660e92859aac9f6": {
     "model_module": "@jupyter-widgets/base",
     "model_module_version": "1.2.0",
     "model_name": "LayoutModel",
     "state": {
      "_model_module": "@jupyter-widgets/base",
      "_model_module_version": "1.2.0",
      "_model_name": "LayoutModel",
      "_view_count": null,
      "_view_module": "@jupyter-widgets/base",
      "_view_module_version": "1.2.0",
      "_view_name": "LayoutView",
      "align_content": null,
      "align_items": null,
      "align_self": null,
      "border": null,
      "bottom": null,
      "display": null,
      "flex": null,
      "flex_flow": null,
      "grid_area": null,
      "grid_auto_columns": null,
      "grid_auto_flow": null,
      "grid_auto_rows": null,
      "grid_column": null,
      "grid_gap": null,
      "grid_row": null,
      "grid_template_areas": null,
      "grid_template_columns": null,
      "grid_template_rows": null,
      "height": null,
      "justify_content": null,
      "justify_items": null,
      "left": null,
      "margin": null,
      "max_height": null,
      "max_width": null,
      "min_height": null,
      "min_width": null,
      "object_fit": null,
      "object_position": null,
      "order": null,
      "overflow": null,
      "overflow_x": null,
      "overflow_y": null,
      "padding": null,
      "right": null,
      "top": null,
      "visibility": null,
      "width": null
     }
    },
    "63e8b2e28dd24c809486cbcea074c8a6": {
     "model_module": "@jupyter-widgets/controls",
     "model_module_version": "1.5.0",
     "model_name": "FloatProgressModel",
     "state": {
      "_dom_classes": [],
      "_model_module": "@jupyter-widgets/controls",
      "_model_module_version": "1.5.0",
      "_model_name": "FloatProgressModel",
      "_view_count": null,
      "_view_module": "@jupyter-widgets/controls",
      "_view_module_version": "1.5.0",
      "_view_name": "ProgressView",
      "bar_style": "success",
      "description": "",
      "description_tooltip": null,
      "layout": "IPY_MODEL_1e14032322954562b5f51f78e1675b61",
      "max": 1080667,
      "min": 0,
      "orientation": "horizontal",
      "style": "IPY_MODEL_d3da8b3c68cb463a8d78d1520e6a61cf",
      "value": 1080667
     }
    },
    "6506e4b2bef648fea17d38043cf8619f": {
     "model_module": "@jupyter-widgets/controls",
     "model_module_version": "1.5.0",
     "model_name": "HTMLModel",
     "state": {
      "_dom_classes": [],
      "_model_module": "@jupyter-widgets/controls",
      "_model_module_version": "1.5.0",
      "_model_name": "HTMLModel",
      "_view_count": null,
      "_view_module": "@jupyter-widgets/controls",
      "_view_module_version": "1.5.0",
      "_view_name": "HTMLView",
      "description": "",
      "description_tooltip": null,
      "layout": "IPY_MODEL_c2eb6a8a41354129b77791d64e1f98ee",
      "placeholder": "​",
      "style": "IPY_MODEL_2bf3a2dccd8b44a783473c1f4c8b117e",
      "value": "Downloading: 100%"
     }
    },
    "66588bcec71e4333a006e03aa16e530f": {
     "model_module": "@jupyter-widgets/controls",
     "model_module_version": "1.5.0",
     "model_name": "HBoxModel",
     "state": {
      "_dom_classes": [],
      "_model_module": "@jupyter-widgets/controls",
      "_model_module_version": "1.5.0",
      "_model_name": "HBoxModel",
      "_view_count": null,
      "_view_module": "@jupyter-widgets/controls",
      "_view_module_version": "1.5.0",
      "_view_name": "HBoxView",
      "box_style": "",
      "children": [
       "IPY_MODEL_ea82c555d6754955a689c87b3925277e",
       "IPY_MODEL_63e8b2e28dd24c809486cbcea074c8a6",
       "IPY_MODEL_90c88ce77c0b489893488a71f91cf6cf"
      ],
      "layout": "IPY_MODEL_feb8c77ce1974b248dd7cccdecf08a6d"
     }
    },
    "6bd495d4385e4b1a84844447398864cc": {
     "model_module": "@jupyter-widgets/base",
     "model_module_version": "1.2.0",
     "model_name": "LayoutModel",
     "state": {
      "_model_module": "@jupyter-widgets/base",
      "_model_module_version": "1.2.0",
      "_model_name": "LayoutModel",
      "_view_count": null,
      "_view_module": "@jupyter-widgets/base",
      "_view_module_version": "1.2.0",
      "_view_name": "LayoutView",
      "align_content": null,
      "align_items": null,
      "align_self": null,
      "border": null,
      "bottom": null,
      "display": null,
      "flex": null,
      "flex_flow": null,
      "grid_area": null,
      "grid_auto_columns": null,
      "grid_auto_flow": null,
      "grid_auto_rows": null,
      "grid_column": null,
      "grid_gap": null,
      "grid_row": null,
      "grid_template_areas": null,
      "grid_template_columns": null,
      "grid_template_rows": null,
      "height": null,
      "justify_content": null,
      "justify_items": null,
      "left": null,
      "margin": null,
      "max_height": null,
      "max_width": null,
      "min_height": null,
      "min_width": null,
      "object_fit": null,
      "object_position": null,
      "order": null,
      "overflow": null,
      "overflow_x": null,
      "overflow_y": null,
      "padding": null,
      "right": null,
      "top": null,
      "visibility": null,
      "width": null
     }
    },
    "6db2a23f430f4935aa837b5bb65b7776": {
     "model_module": "@jupyter-widgets/base",
     "model_module_version": "1.2.0",
     "model_name": "LayoutModel",
     "state": {
      "_model_module": "@jupyter-widgets/base",
      "_model_module_version": "1.2.0",
      "_model_name": "LayoutModel",
      "_view_count": null,
      "_view_module": "@jupyter-widgets/base",
      "_view_module_version": "1.2.0",
      "_view_name": "LayoutView",
      "align_content": null,
      "align_items": null,
      "align_self": null,
      "border": null,
      "bottom": null,
      "display": null,
      "flex": null,
      "flex_flow": null,
      "grid_area": null,
      "grid_auto_columns": null,
      "grid_auto_flow": null,
      "grid_auto_rows": null,
      "grid_column": null,
      "grid_gap": null,
      "grid_row": null,
      "grid_template_areas": null,
      "grid_template_columns": null,
      "grid_template_rows": null,
      "height": null,
      "justify_content": null,
      "justify_items": null,
      "left": null,
      "margin": null,
      "max_height": null,
      "max_width": null,
      "min_height": null,
      "min_width": null,
      "object_fit": null,
      "object_position": null,
      "order": null,
      "overflow": null,
      "overflow_x": null,
      "overflow_y": null,
      "padding": null,
      "right": null,
      "top": null,
      "visibility": null,
      "width": null
     }
    },
    "72195f1fac4e4d27b2aa4641f57aeca7": {
     "model_module": "@jupyter-widgets/controls",
     "model_module_version": "1.5.0",
     "model_name": "ProgressStyleModel",
     "state": {
      "_model_module": "@jupyter-widgets/controls",
      "_model_module_version": "1.5.0",
      "_model_name": "ProgressStyleModel",
      "_view_count": null,
      "_view_module": "@jupyter-widgets/base",
      "_view_module_version": "1.2.0",
      "_view_name": "StyleView",
      "bar_color": null,
      "description_width": ""
     }
    },
    "7d7f395897ca4f1d96ca2989356ef0e9": {
     "model_module": "@jupyter-widgets/base",
     "model_module_version": "1.2.0",
     "model_name": "LayoutModel",
     "state": {
      "_model_module": "@jupyter-widgets/base",
      "_model_module_version": "1.2.0",
      "_model_name": "LayoutModel",
      "_view_count": null,
      "_view_module": "@jupyter-widgets/base",
      "_view_module_version": "1.2.0",
      "_view_name": "LayoutView",
      "align_content": null,
      "align_items": null,
      "align_self": null,
      "border": null,
      "bottom": null,
      "display": null,
      "flex": null,
      "flex_flow": null,
      "grid_area": null,
      "grid_auto_columns": null,
      "grid_auto_flow": null,
      "grid_auto_rows": null,
      "grid_column": null,
      "grid_gap": null,
      "grid_row": null,
      "grid_template_areas": null,
      "grid_template_columns": null,
      "grid_template_rows": null,
      "height": null,
      "justify_content": null,
      "justify_items": null,
      "left": null,
      "margin": null,
      "max_height": null,
      "max_width": null,
      "min_height": null,
      "min_width": null,
      "object_fit": null,
      "object_position": null,
      "order": null,
      "overflow": null,
      "overflow_x": null,
      "overflow_y": null,
      "padding": null,
      "right": null,
      "top": null,
      "visibility": null,
      "width": null
     }
    },
    "7e53a22d78b54dbbb0aedcac06fdb965": {
     "model_module": "@jupyter-widgets/controls",
     "model_module_version": "1.5.0",
     "model_name": "HTMLModel",
     "state": {
      "_dom_classes": [],
      "_model_module": "@jupyter-widgets/controls",
      "_model_module_version": "1.5.0",
      "_model_name": "HTMLModel",
      "_view_count": null,
      "_view_module": "@jupyter-widgets/controls",
      "_view_module_version": "1.5.0",
      "_view_name": "HTMLView",
      "description": "",
      "description_tooltip": null,
      "layout": "IPY_MODEL_7d7f395897ca4f1d96ca2989356ef0e9",
      "placeholder": "​",
      "style": "IPY_MODEL_ad8938cdd7b54e03bfddaa5ead3b248d",
      "value": "Downloading: 100%"
     }
    },
    "83addb69bd224fa5910e74c219b7cfaf": {
     "model_module": "@jupyter-widgets/controls",
     "model_module_version": "1.5.0",
     "model_name": "ProgressStyleModel",
     "state": {
      "_model_module": "@jupyter-widgets/controls",
      "_model_module_version": "1.5.0",
      "_model_name": "ProgressStyleModel",
      "_view_count": null,
      "_view_module": "@jupyter-widgets/base",
      "_view_module_version": "1.2.0",
      "_view_name": "StyleView",
      "bar_color": null,
      "description_width": ""
     }
    },
    "8b794c613cf34e69aa82d1d931e3ae5d": {
     "model_module": "@jupyter-widgets/controls",
     "model_module_version": "1.5.0",
     "model_name": "DescriptionStyleModel",
     "state": {
      "_model_module": "@jupyter-widgets/controls",
      "_model_module_version": "1.5.0",
      "_model_name": "DescriptionStyleModel",
      "_view_count": null,
      "_view_module": "@jupyter-widgets/base",
      "_view_module_version": "1.2.0",
      "_view_name": "StyleView",
      "description_width": ""
     }
    },
    "90c88ce77c0b489893488a71f91cf6cf": {
     "model_module": "@jupyter-widgets/controls",
     "model_module_version": "1.5.0",
     "model_name": "HTMLModel",
     "state": {
      "_dom_classes": [],
      "_model_module": "@jupyter-widgets/controls",
      "_model_module_version": "1.5.0",
      "_model_name": "HTMLModel",
      "_view_count": null,
      "_view_module": "@jupyter-widgets/controls",
      "_view_module_version": "1.5.0",
      "_view_name": "HTMLView",
      "description": "",
      "description_tooltip": null,
      "layout": "IPY_MODEL_b1a6fc3ff24f42f4b732ea2283b63154",
      "placeholder": "​",
      "style": "IPY_MODEL_28acd31243694e91b16ba9809ff17df7",
      "value": " 1.03M/1.03M [00:01&lt;00:00, 1.16MB/s]"
     }
    },
    "96c24e8e0b8a47409378480a4956c2a8": {
     "model_module": "@jupyter-widgets/base",
     "model_module_version": "1.2.0",
     "model_name": "LayoutModel",
     "state": {
      "_model_module": "@jupyter-widgets/base",
      "_model_module_version": "1.2.0",
      "_model_name": "LayoutModel",
      "_view_count": null,
      "_view_module": "@jupyter-widgets/base",
      "_view_module_version": "1.2.0",
      "_view_name": "LayoutView",
      "align_content": null,
      "align_items": null,
      "align_self": null,
      "border": null,
      "bottom": null,
      "display": null,
      "flex": null,
      "flex_flow": null,
      "grid_area": null,
      "grid_auto_columns": null,
      "grid_auto_flow": null,
      "grid_auto_rows": null,
      "grid_column": null,
      "grid_gap": null,
      "grid_row": null,
      "grid_template_areas": null,
      "grid_template_columns": null,
      "grid_template_rows": null,
      "height": null,
      "justify_content": null,
      "justify_items": null,
      "left": null,
      "margin": null,
      "max_height": null,
      "max_width": null,
      "min_height": null,
      "min_width": null,
      "object_fit": null,
      "object_position": null,
      "order": null,
      "overflow": null,
      "overflow_x": null,
      "overflow_y": null,
      "padding": null,
      "right": null,
      "top": null,
      "visibility": null,
      "width": null
     }
    },
    "a0d9f009e98f43868ea2910c978b888c": {
     "model_module": "@jupyter-widgets/controls",
     "model_module_version": "1.5.0",
     "model_name": "HTMLModel",
     "state": {
      "_dom_classes": [],
      "_model_module": "@jupyter-widgets/controls",
      "_model_module_version": "1.5.0",
      "_model_name": "HTMLModel",
      "_view_count": null,
      "_view_module": "@jupyter-widgets/controls",
      "_view_module_version": "1.5.0",
      "_view_name": "HTMLView",
      "description": "",
      "description_tooltip": null,
      "layout": "IPY_MODEL_c8497774ba5d4a56b07787ada2d223b0",
      "placeholder": "​",
      "style": "IPY_MODEL_15a7550ddff04bdf81f5126901f1cd3f",
      "value": "Downloading: 100%"
     }
    },
    "a1ab24a18fd94b61b821886e69983c7e": {
     "model_module": "@jupyter-widgets/base",
     "model_module_version": "1.2.0",
     "model_name": "LayoutModel",
     "state": {
      "_model_module": "@jupyter-widgets/base",
      "_model_module_version": "1.2.0",
      "_model_name": "LayoutModel",
      "_view_count": null,
      "_view_module": "@jupyter-widgets/base",
      "_view_module_version": "1.2.0",
      "_view_name": "LayoutView",
      "align_content": null,
      "align_items": null,
      "align_self": null,
      "border": null,
      "bottom": null,
      "display": null,
      "flex": null,
      "flex_flow": null,
      "grid_area": null,
      "grid_auto_columns": null,
      "grid_auto_flow": null,
      "grid_auto_rows": null,
      "grid_column": null,
      "grid_gap": null,
      "grid_row": null,
      "grid_template_areas": null,
      "grid_template_columns": null,
      "grid_template_rows": null,
      "height": null,
      "justify_content": null,
      "justify_items": null,
      "left": null,
      "margin": null,
      "max_height": null,
      "max_width": null,
      "min_height": null,
      "min_width": null,
      "object_fit": null,
      "object_position": null,
      "order": null,
      "overflow": null,
      "overflow_x": null,
      "overflow_y": null,
      "padding": null,
      "right": null,
      "top": null,
      "visibility": null,
      "width": null
     }
    },
    "a6cc0fe739c84033a407c3327825829a": {
     "model_module": "@jupyter-widgets/base",
     "model_module_version": "1.2.0",
     "model_name": "LayoutModel",
     "state": {
      "_model_module": "@jupyter-widgets/base",
      "_model_module_version": "1.2.0",
      "_model_name": "LayoutModel",
      "_view_count": null,
      "_view_module": "@jupyter-widgets/base",
      "_view_module_version": "1.2.0",
      "_view_name": "LayoutView",
      "align_content": null,
      "align_items": null,
      "align_self": null,
      "border": null,
      "bottom": null,
      "display": null,
      "flex": null,
      "flex_flow": null,
      "grid_area": null,
      "grid_auto_columns": null,
      "grid_auto_flow": null,
      "grid_auto_rows": null,
      "grid_column": null,
      "grid_gap": null,
      "grid_row": null,
      "grid_template_areas": null,
      "grid_template_columns": null,
      "grid_template_rows": null,
      "height": null,
      "justify_content": null,
      "justify_items": null,
      "left": null,
      "margin": null,
      "max_height": null,
      "max_width": null,
      "min_height": null,
      "min_width": null,
      "object_fit": null,
      "object_position": null,
      "order": null,
      "overflow": null,
      "overflow_x": null,
      "overflow_y": null,
      "padding": null,
      "right": null,
      "top": null,
      "visibility": null,
      "width": null
     }
    },
    "ad8938cdd7b54e03bfddaa5ead3b248d": {
     "model_module": "@jupyter-widgets/controls",
     "model_module_version": "1.5.0",
     "model_name": "DescriptionStyleModel",
     "state": {
      "_model_module": "@jupyter-widgets/controls",
      "_model_module_version": "1.5.0",
      "_model_name": "DescriptionStyleModel",
      "_view_count": null,
      "_view_module": "@jupyter-widgets/base",
      "_view_module_version": "1.2.0",
      "_view_name": "StyleView",
      "description_width": ""
     }
    },
    "b1a6fc3ff24f42f4b732ea2283b63154": {
     "model_module": "@jupyter-widgets/base",
     "model_module_version": "1.2.0",
     "model_name": "LayoutModel",
     "state": {
      "_model_module": "@jupyter-widgets/base",
      "_model_module_version": "1.2.0",
      "_model_name": "LayoutModel",
      "_view_count": null,
      "_view_module": "@jupyter-widgets/base",
      "_view_module_version": "1.2.0",
      "_view_name": "LayoutView",
      "align_content": null,
      "align_items": null,
      "align_self": null,
      "border": null,
      "bottom": null,
      "display": null,
      "flex": null,
      "flex_flow": null,
      "grid_area": null,
      "grid_auto_columns": null,
      "grid_auto_flow": null,
      "grid_auto_rows": null,
      "grid_column": null,
      "grid_gap": null,
      "grid_row": null,
      "grid_template_areas": null,
      "grid_template_columns": null,
      "grid_template_rows": null,
      "height": null,
      "justify_content": null,
      "justify_items": null,
      "left": null,
      "margin": null,
      "max_height": null,
      "max_width": null,
      "min_height": null,
      "min_width": null,
      "object_fit": null,
      "object_position": null,
      "order": null,
      "overflow": null,
      "overflow_x": null,
      "overflow_y": null,
      "padding": null,
      "right": null,
      "top": null,
      "visibility": null,
      "width": null
     }
    },
    "b462b7afa335498a9a28f6616229594e": {
     "model_module": "@jupyter-widgets/controls",
     "model_module_version": "1.5.0",
     "model_name": "DescriptionStyleModel",
     "state": {
      "_model_module": "@jupyter-widgets/controls",
      "_model_module_version": "1.5.0",
      "_model_name": "DescriptionStyleModel",
      "_view_count": null,
      "_view_module": "@jupyter-widgets/base",
      "_view_module_version": "1.2.0",
      "_view_name": "StyleView",
      "description_width": ""
     }
    },
    "b5f1eca760a34f7698b3a9aab5120c05": {
     "model_module": "@jupyter-widgets/controls",
     "model_module_version": "1.5.0",
     "model_name": "FloatProgressModel",
     "state": {
      "_dom_classes": [],
      "_model_module": "@jupyter-widgets/controls",
      "_model_module_version": "1.5.0",
      "_model_name": "FloatProgressModel",
      "_view_count": null,
      "_view_module": "@jupyter-widgets/controls",
      "_view_module_version": "1.5.0",
      "_view_name": "ProgressView",
      "bar_style": "success",
      "description": "",
      "description_tooltip": null,
      "layout": "IPY_MODEL_d60131f389cd4f9d90793ad4ea49a301",
      "max": 401,
      "min": 0,
      "orientation": "horizontal",
      "style": "IPY_MODEL_1ca92aee151441f3891d2cf75c7a37f6",
      "value": 401
     }
    },
    "b7f5759da8e14c7fab01202a46173eec": {
     "model_module": "@jupyter-widgets/controls",
     "model_module_version": "1.5.0",
     "model_name": "HTMLModel",
     "state": {
      "_dom_classes": [],
      "_model_module": "@jupyter-widgets/controls",
      "_model_module_version": "1.5.0",
      "_model_name": "HTMLModel",
      "_view_count": null,
      "_view_module": "@jupyter-widgets/controls",
      "_view_module_version": "1.5.0",
      "_view_name": "HTMLView",
      "description": "",
      "description_tooltip": null,
      "layout": "IPY_MODEL_1ab1dbe203c04786a5587db4777f74b7",
      "placeholder": "​",
      "style": "IPY_MODEL_b462b7afa335498a9a28f6616229594e",
      "value": " 401/401 [00:00&lt;00:00, 6.96kB/s]"
     }
    },
    "ba65473ef5ac4b32a3d27163a6192e51": {
     "model_module": "@jupyter-widgets/controls",
     "model_module_version": "1.5.0",
     "model_name": "HBoxModel",
     "state": {
      "_dom_classes": [],
      "_model_module": "@jupyter-widgets/controls",
      "_model_module_version": "1.5.0",
      "_model_name": "HBoxModel",
      "_view_count": null,
      "_view_module": "@jupyter-widgets/controls",
      "_view_module_version": "1.5.0",
      "_view_name": "HBoxView",
      "box_style": "",
      "children": [
       "IPY_MODEL_6506e4b2bef648fea17d38043cf8619f",
       "IPY_MODEL_b5f1eca760a34f7698b3a9aab5120c05",
       "IPY_MODEL_b7f5759da8e14c7fab01202a46173eec"
      ],
      "layout": "IPY_MODEL_3bc7ad63f7f44d40982378896c17056c"
     }
    },
    "bbb8feda7b784ec4a7540bfd67fc62a9": {
     "model_module": "@jupyter-widgets/controls",
     "model_module_version": "1.5.0",
     "model_name": "HBoxModel",
     "state": {
      "_dom_classes": [],
      "_model_module": "@jupyter-widgets/controls",
      "_model_module_version": "1.5.0",
      "_model_name": "HBoxModel",
      "_view_count": null,
      "_view_module": "@jupyter-widgets/controls",
      "_view_module_version": "1.5.0",
      "_view_name": "HBoxView",
      "box_style": "",
      "children": [
       "IPY_MODEL_7e53a22d78b54dbbb0aedcac06fdb965",
       "IPY_MODEL_150e858dae8546749e6c2c984fd782fb",
       "IPY_MODEL_c862d2b966034f1eaa311fbb300126ca"
      ],
      "layout": "IPY_MODEL_a1ab24a18fd94b61b821886e69983c7e"
     }
    },
    "bea1fecee05144d8a0720dd764b05a5b": {
     "model_module": "@jupyter-widgets/controls",
     "model_module_version": "1.5.0",
     "model_name": "FloatProgressModel",
     "state": {
      "_dom_classes": [],
      "_model_module": "@jupyter-widgets/controls",
      "_model_module_version": "1.5.0",
      "_model_name": "FloatProgressModel",
      "_view_count": null,
      "_view_module": "@jupyter-widgets/controls",
      "_view_module_version": "1.5.0",
      "_view_name": "ProgressView",
      "bar_style": "success",
      "description": "",
      "description_tooltip": null,
      "layout": "IPY_MODEL_96c24e8e0b8a47409378480a4956c2a8",
      "max": 715,
      "min": 0,
      "orientation": "horizontal",
      "style": "IPY_MODEL_2d458c07d2be479bbc495a8a1179e99c",
      "value": 715
     }
    },
    "c2eb6a8a41354129b77791d64e1f98ee": {
     "model_module": "@jupyter-widgets/base",
     "model_module_version": "1.2.0",
     "model_name": "LayoutModel",
     "state": {
      "_model_module": "@jupyter-widgets/base",
      "_model_module_version": "1.2.0",
      "_model_name": "LayoutModel",
      "_view_count": null,
      "_view_module": "@jupyter-widgets/base",
      "_view_module_version": "1.2.0",
      "_view_name": "LayoutView",
      "align_content": null,
      "align_items": null,
      "align_self": null,
      "border": null,
      "bottom": null,
      "display": null,
      "flex": null,
      "flex_flow": null,
      "grid_area": null,
      "grid_auto_columns": null,
      "grid_auto_flow": null,
      "grid_auto_rows": null,
      "grid_column": null,
      "grid_gap": null,
      "grid_row": null,
      "grid_template_areas": null,
      "grid_template_columns": null,
      "grid_template_rows": null,
      "height": null,
      "justify_content": null,
      "justify_items": null,
      "left": null,
      "margin": null,
      "max_height": null,
      "max_width": null,
      "min_height": null,
      "min_width": null,
      "object_fit": null,
      "object_position": null,
      "order": null,
      "overflow": null,
      "overflow_x": null,
      "overflow_y": null,
      "padding": null,
      "right": null,
      "top": null,
      "visibility": null,
      "width": null
     }
    },
    "c8497774ba5d4a56b07787ada2d223b0": {
     "model_module": "@jupyter-widgets/base",
     "model_module_version": "1.2.0",
     "model_name": "LayoutModel",
     "state": {
      "_model_module": "@jupyter-widgets/base",
      "_model_module_version": "1.2.0",
      "_model_name": "LayoutModel",
      "_view_count": null,
      "_view_module": "@jupyter-widgets/base",
      "_view_module_version": "1.2.0",
      "_view_name": "LayoutView",
      "align_content": null,
      "align_items": null,
      "align_self": null,
      "border": null,
      "bottom": null,
      "display": null,
      "flex": null,
      "flex_flow": null,
      "grid_area": null,
      "grid_auto_columns": null,
      "grid_auto_flow": null,
      "grid_auto_rows": null,
      "grid_column": null,
      "grid_gap": null,
      "grid_row": null,
      "grid_template_areas": null,
      "grid_template_columns": null,
      "grid_template_rows": null,
      "height": null,
      "justify_content": null,
      "justify_items": null,
      "left": null,
      "margin": null,
      "max_height": null,
      "max_width": null,
      "min_height": null,
      "min_width": null,
      "object_fit": null,
      "object_position": null,
      "order": null,
      "overflow": null,
      "overflow_x": null,
      "overflow_y": null,
      "padding": null,
      "right": null,
      "top": null,
      "visibility": null,
      "width": null
     }
    },
    "c862d2b966034f1eaa311fbb300126ca": {
     "model_module": "@jupyter-widgets/controls",
     "model_module_version": "1.5.0",
     "model_name": "HTMLModel",
     "state": {
      "_dom_classes": [],
      "_model_module": "@jupyter-widgets/controls",
      "_model_module_version": "1.5.0",
      "_model_name": "HTMLModel",
      "_view_count": null,
      "_view_module": "@jupyter-widgets/controls",
      "_view_module_version": "1.5.0",
      "_view_name": "HTMLView",
      "description": "",
      "description_tooltip": null,
      "layout": "IPY_MODEL_25c2f23b17224dafa940e5a2b9b34931",
      "placeholder": "​",
      "style": "IPY_MODEL_24cbf5dd18154388b529dc5882dd5cc0",
      "value": " 112M/112M [00:02&lt;00:00, 61.9MB/s]"
     }
    },
    "d3da8b3c68cb463a8d78d1520e6a61cf": {
     "model_module": "@jupyter-widgets/controls",
     "model_module_version": "1.5.0",
     "model_name": "ProgressStyleModel",
     "state": {
      "_model_module": "@jupyter-widgets/controls",
      "_model_module_version": "1.5.0",
      "_model_name": "ProgressStyleModel",
      "_view_count": null,
      "_view_module": "@jupyter-widgets/base",
      "_view_module_version": "1.2.0",
      "_view_name": "StyleView",
      "bar_color": null,
      "description_width": ""
     }
    },
    "d480eff16c9d45bcb00af062abd5b199": {
     "model_module": "@jupyter-widgets/controls",
     "model_module_version": "1.5.0",
     "model_name": "HBoxModel",
     "state": {
      "_dom_classes": [],
      "_model_module": "@jupyter-widgets/controls",
      "_model_module_version": "1.5.0",
      "_model_name": "HBoxModel",
      "_view_count": null,
      "_view_module": "@jupyter-widgets/controls",
      "_view_module_version": "1.5.0",
      "_view_name": "HBoxView",
      "box_style": "",
      "children": [
       "IPY_MODEL_520179ce4a8e411aa0e19bff533c04e9",
       "IPY_MODEL_d5851b70d2fe49418a5180462e0f354b",
       "IPY_MODEL_ddd40e9bf9624c79882083ab76671ad3"
      ],
      "layout": "IPY_MODEL_efdf03e2ecbf428295e307109b1a167f"
     }
    },
    "d5851b70d2fe49418a5180462e0f354b": {
     "model_module": "@jupyter-widgets/controls",
     "model_module_version": "1.5.0",
     "model_name": "FloatProgressModel",
     "state": {
      "_dom_classes": [],
      "_model_module": "@jupyter-widgets/controls",
      "_model_module_version": "1.5.0",
      "_model_name": "FloatProgressModel",
      "_view_count": null,
      "_view_module": "@jupyter-widgets/controls",
      "_view_module_version": "1.5.0",
      "_view_name": "ProgressView",
      "bar_style": "success",
      "description": "",
      "description_tooltip": null,
      "layout": "IPY_MODEL_55f1b989e5f844f59660e92859aac9f6",
      "max": 112,
      "min": 0,
      "orientation": "horizontal",
      "style": "IPY_MODEL_72195f1fac4e4d27b2aa4641f57aeca7",
      "value": 112
     }
    },
    "d60131f389cd4f9d90793ad4ea49a301": {
     "model_module": "@jupyter-widgets/base",
     "model_module_version": "1.2.0",
     "model_name": "LayoutModel",
     "state": {
      "_model_module": "@jupyter-widgets/base",
      "_model_module_version": "1.2.0",
      "_model_name": "LayoutModel",
      "_view_count": null,
      "_view_module": "@jupyter-widgets/base",
      "_view_module_version": "1.2.0",
      "_view_name": "LayoutView",
      "align_content": null,
      "align_items": null,
      "align_self": null,
      "border": null,
      "bottom": null,
      "display": null,
      "flex": null,
      "flex_flow": null,
      "grid_area": null,
      "grid_auto_columns": null,
      "grid_auto_flow": null,
      "grid_auto_rows": null,
      "grid_column": null,
      "grid_gap": null,
      "grid_row": null,
      "grid_template_areas": null,
      "grid_template_columns": null,
      "grid_template_rows": null,
      "height": null,
      "justify_content": null,
      "justify_items": null,
      "left": null,
      "margin": null,
      "max_height": null,
      "max_width": null,
      "min_height": null,
      "min_width": null,
      "object_fit": null,
      "object_position": null,
      "order": null,
      "overflow": null,
      "overflow_x": null,
      "overflow_y": null,
      "padding": null,
      "right": null,
      "top": null,
      "visibility": null,
      "width": null
     }
    },
    "ddd40e9bf9624c79882083ab76671ad3": {
     "model_module": "@jupyter-widgets/controls",
     "model_module_version": "1.5.0",
     "model_name": "HTMLModel",
     "state": {
      "_dom_classes": [],
      "_model_module": "@jupyter-widgets/controls",
      "_model_module_version": "1.5.0",
      "_model_name": "HTMLModel",
      "_view_count": null,
      "_view_module": "@jupyter-widgets/controls",
      "_view_module_version": "1.5.0",
      "_view_name": "HTMLView",
      "description": "",
      "description_tooltip": null,
      "layout": "IPY_MODEL_5211acd25df6426eba135337952484e5",
      "placeholder": "​",
      "style": "IPY_MODEL_8b794c613cf34e69aa82d1d931e3ae5d",
      "value": " 112/112 [00:00&lt;00:00, 4.82kB/s]"
     }
    },
    "ea82c555d6754955a689c87b3925277e": {
     "model_module": "@jupyter-widgets/controls",
     "model_module_version": "1.5.0",
     "model_name": "HTMLModel",
     "state": {
      "_dom_classes": [],
      "_model_module": "@jupyter-widgets/controls",
      "_model_module_version": "1.5.0",
      "_model_name": "HTMLModel",
      "_view_count": null,
      "_view_module": "@jupyter-widgets/controls",
      "_view_module_version": "1.5.0",
      "_view_name": "HTMLView",
      "description": "",
      "description_tooltip": null,
      "layout": "IPY_MODEL_52106e8ef0bb4c65a231d8c1e5420a6e",
      "placeholder": "​",
      "style": "IPY_MODEL_3c26159782b74496844f375fec61e383",
      "value": "Downloading: 100%"
     }
    },
    "efdf03e2ecbf428295e307109b1a167f": {
     "model_module": "@jupyter-widgets/base",
     "model_module_version": "1.2.0",
     "model_name": "LayoutModel",
     "state": {
      "_model_module": "@jupyter-widgets/base",
      "_model_module_version": "1.2.0",
      "_model_name": "LayoutModel",
      "_view_count": null,
      "_view_module": "@jupyter-widgets/base",
      "_view_module_version": "1.2.0",
      "_view_name": "LayoutView",
      "align_content": null,
      "align_items": null,
      "align_self": null,
      "border": null,
      "bottom": null,
      "display": null,
      "flex": null,
      "flex_flow": null,
      "grid_area": null,
      "grid_auto_columns": null,
      "grid_auto_flow": null,
      "grid_auto_rows": null,
      "grid_column": null,
      "grid_gap": null,
      "grid_row": null,
      "grid_template_areas": null,
      "grid_template_columns": null,
      "grid_template_rows": null,
      "height": null,
      "justify_content": null,
      "justify_items": null,
      "left": null,
      "margin": null,
      "max_height": null,
      "max_width": null,
      "min_height": null,
      "min_width": null,
      "object_fit": null,
      "object_position": null,
      "order": null,
      "overflow": null,
      "overflow_x": null,
      "overflow_y": null,
      "padding": null,
      "right": null,
      "top": null,
      "visibility": null,
      "width": null
     }
    },
    "f9a367229aa34173979134a5cba46535": {
     "model_module": "@jupyter-widgets/controls",
     "model_module_version": "1.5.0",
     "model_name": "DescriptionStyleModel",
     "state": {
      "_model_module": "@jupyter-widgets/controls",
      "_model_module_version": "1.5.0",
      "_model_name": "DescriptionStyleModel",
      "_view_count": null,
      "_view_module": "@jupyter-widgets/base",
      "_view_module_version": "1.2.0",
      "_view_name": "StyleView",
      "description_width": ""
     }
    },
    "feb8c77ce1974b248dd7cccdecf08a6d": {
     "model_module": "@jupyter-widgets/base",
     "model_module_version": "1.2.0",
     "model_name": "LayoutModel",
     "state": {
      "_model_module": "@jupyter-widgets/base",
      "_model_module_version": "1.2.0",
      "_model_name": "LayoutModel",
      "_view_count": null,
      "_view_module": "@jupyter-widgets/base",
      "_view_module_version": "1.2.0",
      "_view_name": "LayoutView",
      "align_content": null,
      "align_items": null,
      "align_self": null,
      "border": null,
      "bottom": null,
      "display": null,
      "flex": null,
      "flex_flow": null,
      "grid_area": null,
      "grid_auto_columns": null,
      "grid_auto_flow": null,
      "grid_auto_rows": null,
      "grid_column": null,
      "grid_gap": null,
      "grid_row": null,
      "grid_template_areas": null,
      "grid_template_columns": null,
      "grid_template_rows": null,
      "height": null,
      "justify_content": null,
      "justify_items": null,
      "left": null,
      "margin": null,
      "max_height": null,
      "max_width": null,
      "min_height": null,
      "min_width": null,
      "object_fit": null,
      "object_position": null,
      "order": null,
      "overflow": null,
      "overflow_x": null,
      "overflow_y": null,
      "padding": null,
      "right": null,
      "top": null,
      "visibility": null,
      "width": null
     }
    }
   }
  }
 },
 "nbformat": 4,
 "nbformat_minor": 5
}
